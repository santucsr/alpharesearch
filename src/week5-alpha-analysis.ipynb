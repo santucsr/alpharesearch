{
 "cells": [
  {
   "cell_type": "code",
   "execution_count": 2,
   "metadata": {},
   "outputs": [],
   "source": [
    "import numpy as np\n",
    "import pandas as pd\n",
    "from pathmgmt import pathmgmt as myPath\n",
    "import os"
   ]
  },
  {
   "cell_type": "code",
   "execution_count": 3,
   "metadata": {},
   "outputs": [],
   "source": [
    "# Combine all alphas\n",
    "def get_stat():\n",
    "    res = pd.DataFrame()\n",
    "    for folderName in os.listdir(myPath.PLOT_DIR):\n",
    "        if 'zz9999' not in folderName:\n",
    "            continue\n",
    "        # print(folderName)\n",
    "        folder = myPath.PLOT_DIR/folderName/'statistics'\n",
    "        for fileName in os.listdir(folder):\n",
    "            # print(fileName)\n",
    "            file = folder/fileName\n",
    "            df = pd.read_csv(file)\n",
    "            df.index = [f'{folderName};{fileName[:-15]}']\n",
    "            # print(df)\n",
    "            if res.empty:\n",
    "                res = df\n",
    "            else:\n",
    "                res = pd.concat([res, df])\n",
    "    return res\n"
   ]
  },
  {
   "cell_type": "code",
   "execution_count": 4,
   "metadata": {},
   "outputs": [],
   "source": [
    "stats = get_stat()"
   ]
  },
  {
   "cell_type": "code",
   "execution_count": 5,
   "metadata": {},
   "outputs": [
    {
     "data": {
      "text/html": [
       "<div>\n",
       "<style scoped>\n",
       "    .dataframe tbody tr th:only-of-type {\n",
       "        vertical-align: middle;\n",
       "    }\n",
       "\n",
       "    .dataframe tbody tr th {\n",
       "        vertical-align: top;\n",
       "    }\n",
       "\n",
       "    .dataframe thead th {\n",
       "        text-align: right;\n",
       "    }\n",
       "</style>\n",
       "<table border=\"1\" class=\"dataframe\">\n",
       "  <thead>\n",
       "    <tr style=\"text-align: right;\">\n",
       "      <th></th>\n",
       "      <th>Annualized Return</th>\n",
       "      <th>Annualized Excess Return</th>\n",
       "      <th>IR</th>\n",
       "      <th>IR long only</th>\n",
       "      <th>IC</th>\n",
       "      <th>Max Drawdown</th>\n",
       "      <th>Max Drawdown long only</th>\n",
       "      <th>daily Turnover</th>\n",
       "    </tr>\n",
       "  </thead>\n",
       "  <tbody>\n",
       "    <tr>\n",
       "      <th>count</th>\n",
       "      <td>197.000000</td>\n",
       "      <td>197.000000</td>\n",
       "      <td>197.000000</td>\n",
       "      <td>197.000000</td>\n",
       "      <td>197.000000</td>\n",
       "      <td>197.000000</td>\n",
       "      <td>197.000000</td>\n",
       "      <td>197.000000</td>\n",
       "    </tr>\n",
       "    <tr>\n",
       "      <th>mean</th>\n",
       "      <td>0.098041</td>\n",
       "      <td>-0.103613</td>\n",
       "      <td>1.505943</td>\n",
       "      <td>-0.828360</td>\n",
       "      <td>0.006605</td>\n",
       "      <td>0.103557</td>\n",
       "      <td>0.368498</td>\n",
       "      <td>0.091564</td>\n",
       "    </tr>\n",
       "    <tr>\n",
       "      <th>std</th>\n",
       "      <td>0.088097</td>\n",
       "      <td>0.031894</td>\n",
       "      <td>1.164628</td>\n",
       "      <td>0.283669</td>\n",
       "      <td>0.006607</td>\n",
       "      <td>0.072072</td>\n",
       "      <td>0.065035</td>\n",
       "      <td>0.099181</td>\n",
       "    </tr>\n",
       "    <tr>\n",
       "      <th>min</th>\n",
       "      <td>-0.077258</td>\n",
       "      <td>-0.203672</td>\n",
       "      <td>-0.874406</td>\n",
       "      <td>-1.549496</td>\n",
       "      <td>-0.004113</td>\n",
       "      <td>0.020960</td>\n",
       "      <td>0.258523</td>\n",
       "      <td>0.008276</td>\n",
       "    </tr>\n",
       "    <tr>\n",
       "      <th>25%</th>\n",
       "      <td>0.033585</td>\n",
       "      <td>-0.120391</td>\n",
       "      <td>0.609141</td>\n",
       "      <td>-1.035955</td>\n",
       "      <td>0.001423</td>\n",
       "      <td>0.056674</td>\n",
       "      <td>0.312163</td>\n",
       "      <td>0.022888</td>\n",
       "    </tr>\n",
       "    <tr>\n",
       "      <th>50%</th>\n",
       "      <td>0.086783</td>\n",
       "      <td>-0.104455</td>\n",
       "      <td>1.462913</td>\n",
       "      <td>-0.835905</td>\n",
       "      <td>0.005208</td>\n",
       "      <td>0.068463</td>\n",
       "      <td>0.366992</td>\n",
       "      <td>0.061630</td>\n",
       "    </tr>\n",
       "    <tr>\n",
       "      <th>75%</th>\n",
       "      <td>0.159912</td>\n",
       "      <td>-0.089319</td>\n",
       "      <td>2.508969</td>\n",
       "      <td>-0.700563</td>\n",
       "      <td>0.010778</td>\n",
       "      <td>0.132314</td>\n",
       "      <td>0.412113</td>\n",
       "      <td>0.132244</td>\n",
       "    </tr>\n",
       "    <tr>\n",
       "      <th>max</th>\n",
       "      <td>0.285464</td>\n",
       "      <td>-0.038737</td>\n",
       "      <td>4.121040</td>\n",
       "      <td>-0.285176</td>\n",
       "      <td>0.021537</td>\n",
       "      <td>0.350836</td>\n",
       "      <td>0.589292</td>\n",
       "      <td>0.748058</td>\n",
       "    </tr>\n",
       "  </tbody>\n",
       "</table>\n",
       "</div>"
      ],
      "text/plain": [
       "       Annualized Return  Annualized Excess Return          IR  IR long only  \\\n",
       "count         197.000000                197.000000  197.000000    197.000000   \n",
       "mean            0.098041                 -0.103613    1.505943     -0.828360   \n",
       "std             0.088097                  0.031894    1.164628      0.283669   \n",
       "min            -0.077258                 -0.203672   -0.874406     -1.549496   \n",
       "25%             0.033585                 -0.120391    0.609141     -1.035955   \n",
       "50%             0.086783                 -0.104455    1.462913     -0.835905   \n",
       "75%             0.159912                 -0.089319    2.508969     -0.700563   \n",
       "max             0.285464                 -0.038737    4.121040     -0.285176   \n",
       "\n",
       "               IC  Max Drawdown  Max Drawdown long only  daily Turnover  \n",
       "count  197.000000    197.000000              197.000000      197.000000  \n",
       "mean     0.006605      0.103557                0.368498        0.091564  \n",
       "std      0.006607      0.072072                0.065035        0.099181  \n",
       "min     -0.004113      0.020960                0.258523        0.008276  \n",
       "25%      0.001423      0.056674                0.312163        0.022888  \n",
       "50%      0.005208      0.068463                0.366992        0.061630  \n",
       "75%      0.010778      0.132314                0.412113        0.132244  \n",
       "max      0.021537      0.350836                0.589292        0.748058  "
      ]
     },
     "execution_count": 5,
     "metadata": {},
     "output_type": "execute_result"
    }
   ],
   "source": [
    "stats.describe()"
   ]
  },
  {
   "cell_type": "code",
   "execution_count": 6,
   "metadata": {},
   "outputs": [],
   "source": [
    "good_alphas = list(stats.loc[stats.IR > 2].index)"
   ]
  },
  {
   "cell_type": "code",
   "execution_count": 7,
   "metadata": {},
   "outputs": [],
   "source": [
    "# combine daily pnl\n",
    "def get_pnl():\n",
    "    res = pd.DataFrame()\n",
    "    for folderName in os.listdir(myPath.PLOT_DIR):\n",
    "        if 'zz9999' not in folderName:\n",
    "            continue\n",
    "        # print(folderName)\n",
    "        folder = myPath.PLOT_DIR/folderName/'PnL_results'\n",
    "        for fileName in os.listdir(folder):\n",
    "            file = folder/fileName\n",
    "            df = pd.read_csv(file)\n",
    "            # df = df.set_index('time')\n",
    "            # df = df['pnl']\n",
    "            df = df[['time', 'pnl']]\n",
    "            df.rename(\n",
    "                columns={'pnl': f'{folderName};{fileName[:-13]}'}, inplace=True)\n",
    "            if res.empty:\n",
    "                res = df\n",
    "            else:\n",
    "                res = res.merge(df, on='time', how='outer')\n",
    "    res = res.set_index('time').sort_index()\n",
    "    return res\n"
   ]
  },
  {
   "cell_type": "code",
   "execution_count": 8,
   "metadata": {},
   "outputs": [],
   "source": [
    "pnls = get_pnl()"
   ]
  },
  {
   "cell_type": "code",
   "execution_count": 9,
   "metadata": {},
   "outputs": [],
   "source": [
    "corr = pnls[good_alphas].corr()"
   ]
  },
  {
   "cell_type": "code",
   "execution_count": 10,
   "metadata": {},
   "outputs": [],
   "source": [
    "from itertools import combinations\n",
    "import random\n",
    "res = []\n",
    "num = 4\n",
    "good_candidates = list(\n",
    "    ((corr.mask(np.eye(len(corr), dtype=bool)).abs() < 0.6).sum() > num).index)\n",
    "random.shuffle(good_candidates)\n",
    "for cols in combinations(good_candidates, num):\n",
    "    corr_small = corr.loc[cols, cols]\n",
    "    if (~(corr_small.mask(np.eye(len(corr_small), dtype=bool)).abs() > 0.6).any()).sum() == num:\n",
    "        res.append(corr_small)"
   ]
  },
  {
   "cell_type": "code",
   "execution_count": 11,
   "metadata": {},
   "outputs": [],
   "source": [
    "max_IR = float('-inf')\n",
    "max_idx = -1\n",
    "for i in range(len(res)):\n",
    "    total_IR = np.sum([(stats.loc[stats.index==name].IR) for name in res[i].index])\n",
    "    if total_IR > max_IR:\n",
    "        max_IR = total_IR\n",
    "        max_idx = i"
   ]
  },
  {
   "cell_type": "code",
   "execution_count": 12,
   "metadata": {},
   "outputs": [
    {
     "data": {
      "text/html": [
       "<div>\n",
       "<style scoped>\n",
       "    .dataframe tbody tr th:only-of-type {\n",
       "        vertical-align: middle;\n",
       "    }\n",
       "\n",
       "    .dataframe tbody tr th {\n",
       "        vertical-align: top;\n",
       "    }\n",
       "\n",
       "    .dataframe thead th {\n",
       "        text-align: right;\n",
       "    }\n",
       "</style>\n",
       "<table border=\"1\" class=\"dataframe\">\n",
       "  <thead>\n",
       "    <tr style=\"text-align: right;\">\n",
       "      <th></th>\n",
       "      <th>alpha.YaoReV009-3days-a5-zz9999;20180101-20201231-Rank-Industry-holding1days</th>\n",
       "      <th>alpha.YaoReV009-10days-a3-zz9999;20180101-20201231-Rank-Industry-holding1days</th>\n",
       "      <th>alpha.YaoReV008-20days-1neighbors-zz9999;20180101-20201231-Rank-Industry-holding10days</th>\n",
       "      <th>alpha.YaoReV011-20days-a5-zz9999;20180101-20201231-Rank-Industry-holding1days</th>\n",
       "    </tr>\n",
       "  </thead>\n",
       "  <tbody>\n",
       "    <tr>\n",
       "      <th>alpha.YaoReV009-3days-a5-zz9999;20180101-20201231-Rank-Industry-holding1days</th>\n",
       "      <td>1.000000</td>\n",
       "      <td>0.589686</td>\n",
       "      <td>0.046094</td>\n",
       "      <td>0.292743</td>\n",
       "    </tr>\n",
       "    <tr>\n",
       "      <th>alpha.YaoReV009-10days-a3-zz9999;20180101-20201231-Rank-Industry-holding1days</th>\n",
       "      <td>0.589686</td>\n",
       "      <td>1.000000</td>\n",
       "      <td>0.387398</td>\n",
       "      <td>0.141018</td>\n",
       "    </tr>\n",
       "    <tr>\n",
       "      <th>alpha.YaoReV008-20days-1neighbors-zz9999;20180101-20201231-Rank-Industry-holding10days</th>\n",
       "      <td>0.046094</td>\n",
       "      <td>0.387398</td>\n",
       "      <td>1.000000</td>\n",
       "      <td>0.598635</td>\n",
       "    </tr>\n",
       "    <tr>\n",
       "      <th>alpha.YaoReV011-20days-a5-zz9999;20180101-20201231-Rank-Industry-holding1days</th>\n",
       "      <td>0.292743</td>\n",
       "      <td>0.141018</td>\n",
       "      <td>0.598635</td>\n",
       "      <td>1.000000</td>\n",
       "    </tr>\n",
       "  </tbody>\n",
       "</table>\n",
       "</div>"
      ],
      "text/plain": [
       "                                                    alpha.YaoReV009-3days-a5-zz9999;20180101-20201231-Rank-Industry-holding1days  \\\n",
       "alpha.YaoReV009-3days-a5-zz9999;20180101-202012...                                           1.000000                              \n",
       "alpha.YaoReV009-10days-a3-zz9999;20180101-20201...                                           0.589686                              \n",
       "alpha.YaoReV008-20days-1neighbors-zz9999;201801...                                           0.046094                              \n",
       "alpha.YaoReV011-20days-a5-zz9999;20180101-20201...                                           0.292743                              \n",
       "\n",
       "                                                    alpha.YaoReV009-10days-a3-zz9999;20180101-20201231-Rank-Industry-holding1days  \\\n",
       "alpha.YaoReV009-3days-a5-zz9999;20180101-202012...                                           0.589686                               \n",
       "alpha.YaoReV009-10days-a3-zz9999;20180101-20201...                                           1.000000                               \n",
       "alpha.YaoReV008-20days-1neighbors-zz9999;201801...                                           0.387398                               \n",
       "alpha.YaoReV011-20days-a5-zz9999;20180101-20201...                                           0.141018                               \n",
       "\n",
       "                                                    alpha.YaoReV008-20days-1neighbors-zz9999;20180101-20201231-Rank-Industry-holding10days  \\\n",
       "alpha.YaoReV009-3days-a5-zz9999;20180101-202012...                                           0.046094                                        \n",
       "alpha.YaoReV009-10days-a3-zz9999;20180101-20201...                                           0.387398                                        \n",
       "alpha.YaoReV008-20days-1neighbors-zz9999;201801...                                           1.000000                                        \n",
       "alpha.YaoReV011-20days-a5-zz9999;20180101-20201...                                           0.598635                                        \n",
       "\n",
       "                                                    alpha.YaoReV011-20days-a5-zz9999;20180101-20201231-Rank-Industry-holding1days  \n",
       "alpha.YaoReV009-3days-a5-zz9999;20180101-202012...                                           0.292743                              \n",
       "alpha.YaoReV009-10days-a3-zz9999;20180101-20201...                                           0.141018                              \n",
       "alpha.YaoReV008-20days-1neighbors-zz9999;201801...                                           0.598635                              \n",
       "alpha.YaoReV011-20days-a5-zz9999;20180101-20201...                                           1.000000                              "
      ]
     },
     "execution_count": 12,
     "metadata": {},
     "output_type": "execute_result"
    }
   ],
   "source": [
    "res[max_idx]"
   ]
  },
  {
   "cell_type": "code",
   "execution_count": 13,
   "metadata": {},
   "outputs": [
    {
     "data": {
      "text/plain": [
       "9.30070202333047"
      ]
     },
     "execution_count": 13,
     "metadata": {},
     "output_type": "execute_result"
    }
   ],
   "source": [
    "total_IR"
   ]
  },
  {
   "cell_type": "code",
   "execution_count": null,
   "metadata": {},
   "outputs": [],
   "source": []
  }
 ],
 "metadata": {
  "kernelspec": {
   "display_name": ".venv",
   "language": "python",
   "name": "python3"
  },
  "language_info": {
   "codemirror_mode": {
    "name": "ipython",
    "version": 3
   },
   "file_extension": ".py",
   "mimetype": "text/x-python",
   "name": "python",
   "nbconvert_exporter": "python",
   "pygments_lexer": "ipython3",
   "version": "3.10.11"
  },
  "orig_nbformat": 4
 },
 "nbformat": 4,
 "nbformat_minor": 2
}
