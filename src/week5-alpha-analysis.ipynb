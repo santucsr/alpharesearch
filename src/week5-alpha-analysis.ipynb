{
 "cells": [
  {
   "cell_type": "code",
   "execution_count": 1,
   "metadata": {},
   "outputs": [],
   "source": [
    "import numpy as np\n",
    "import pandas as pd\n",
    "from pathmgmt import pathmgmt as myPath\n",
    "import os\n"
   ]
  },
  {
   "cell_type": "code",
   "execution_count": 2,
   "metadata": {},
   "outputs": [],
   "source": [
    "# Combine all alphas\n",
    "def get_stat():\n",
    "    res = pd.DataFrame()\n",
    "    for folderName in os.listdir(myPath.PLOT_DIR):\n",
    "        if 'zz9999' not in folderName:\n",
    "            continue\n",
    "        # print(folderName)\n",
    "        folder = myPath.PLOT_DIR/folderName/'statistics'\n",
    "        for fileName in os.listdir(folder):\n",
    "            # print(fileName)\n",
    "            file = folder/fileName\n",
    "            df = pd.read_csv(file)\n",
    "            df.index = [f'{folderName};{fileName[:-15]}']\n",
    "            # print(df)\n",
    "            if res.empty:\n",
    "                res = df\n",
    "            else:\n",
    "                res = pd.concat([res, df])\n",
    "    return res\n"
   ]
  },
  {
   "cell_type": "code",
   "execution_count": 3,
   "metadata": {},
   "outputs": [],
   "source": [
    "stats = get_stat()"
   ]
  },
  {
   "cell_type": "code",
   "execution_count": 4,
   "metadata": {},
   "outputs": [
    {
     "data": {
      "text/html": [
       "<div>\n",
       "<style scoped>\n",
       "    .dataframe tbody tr th:only-of-type {\n",
       "        vertical-align: middle;\n",
       "    }\n",
       "\n",
       "    .dataframe tbody tr th {\n",
       "        vertical-align: top;\n",
       "    }\n",
       "\n",
       "    .dataframe thead th {\n",
       "        text-align: right;\n",
       "    }\n",
       "</style>\n",
       "<table border=\"1\" class=\"dataframe\">\n",
       "  <thead>\n",
       "    <tr style=\"text-align: right;\">\n",
       "      <th></th>\n",
       "      <th>Annualized Return</th>\n",
       "      <th>Annualized Excess Return</th>\n",
       "      <th>IR</th>\n",
       "      <th>IR long only</th>\n",
       "      <th>IC</th>\n",
       "      <th>Max Drawdown</th>\n",
       "      <th>Max Drawdown long only</th>\n",
       "      <th>daily Turnover</th>\n",
       "    </tr>\n",
       "  </thead>\n",
       "  <tbody>\n",
       "    <tr>\n",
       "      <th>count</th>\n",
       "      <td>89.000000</td>\n",
       "      <td>89.000000</td>\n",
       "      <td>89.000000</td>\n",
       "      <td>89.000000</td>\n",
       "      <td>89.000000</td>\n",
       "      <td>89.000000</td>\n",
       "      <td>89.000000</td>\n",
       "      <td>89.000000</td>\n",
       "    </tr>\n",
       "    <tr>\n",
       "      <th>mean</th>\n",
       "      <td>0.112360</td>\n",
       "      <td>-0.092363</td>\n",
       "      <td>1.610674</td>\n",
       "      <td>-0.701595</td>\n",
       "      <td>0.009686</td>\n",
       "      <td>0.112088</td>\n",
       "      <td>0.379563</td>\n",
       "      <td>0.114387</td>\n",
       "    </tr>\n",
       "    <tr>\n",
       "      <th>std</th>\n",
       "      <td>0.107743</td>\n",
       "      <td>0.038771</td>\n",
       "      <td>1.251950</td>\n",
       "      <td>0.318042</td>\n",
       "      <td>0.007817</td>\n",
       "      <td>0.095287</td>\n",
       "      <td>0.082778</td>\n",
       "      <td>0.115912</td>\n",
       "    </tr>\n",
       "    <tr>\n",
       "      <th>min</th>\n",
       "      <td>-0.077258</td>\n",
       "      <td>-0.203672</td>\n",
       "      <td>-0.874406</td>\n",
       "      <td>-1.549496</td>\n",
       "      <td>-0.004113</td>\n",
       "      <td>0.020960</td>\n",
       "      <td>0.258523</td>\n",
       "      <td>0.010282</td>\n",
       "    </tr>\n",
       "    <tr>\n",
       "      <th>25%</th>\n",
       "      <td>0.035184</td>\n",
       "      <td>-0.117383</td>\n",
       "      <td>0.760680</td>\n",
       "      <td>-0.888662</td>\n",
       "      <td>0.002178</td>\n",
       "      <td>0.057449</td>\n",
       "      <td>0.302470</td>\n",
       "      <td>0.033663</td>\n",
       "    </tr>\n",
       "    <tr>\n",
       "      <th>50%</th>\n",
       "      <td>0.122559</td>\n",
       "      <td>-0.091967</td>\n",
       "      <td>2.102997</td>\n",
       "      <td>-0.720338</td>\n",
       "      <td>0.010778</td>\n",
       "      <td>0.063902</td>\n",
       "      <td>0.376716</td>\n",
       "      <td>0.068256</td>\n",
       "    </tr>\n",
       "    <tr>\n",
       "      <th>75%</th>\n",
       "      <td>0.195175</td>\n",
       "      <td>-0.058211</td>\n",
       "      <td>2.592515</td>\n",
       "      <td>-0.371849</td>\n",
       "      <td>0.016176</td>\n",
       "      <td>0.128797</td>\n",
       "      <td>0.438348</td>\n",
       "      <td>0.137830</td>\n",
       "    </tr>\n",
       "    <tr>\n",
       "      <th>max</th>\n",
       "      <td>0.285464</td>\n",
       "      <td>-0.038737</td>\n",
       "      <td>3.208175</td>\n",
       "      <td>-0.285176</td>\n",
       "      <td>0.021537</td>\n",
       "      <td>0.350836</td>\n",
       "      <td>0.589292</td>\n",
       "      <td>0.748058</td>\n",
       "    </tr>\n",
       "  </tbody>\n",
       "</table>\n",
       "</div>"
      ],
      "text/plain": [
       "       Annualized Return  Annualized Excess Return         IR  IR long only  \\\n",
       "count          89.000000                 89.000000  89.000000     89.000000   \n",
       "mean            0.112360                 -0.092363   1.610674     -0.701595   \n",
       "std             0.107743                  0.038771   1.251950      0.318042   \n",
       "min            -0.077258                 -0.203672  -0.874406     -1.549496   \n",
       "25%             0.035184                 -0.117383   0.760680     -0.888662   \n",
       "50%             0.122559                 -0.091967   2.102997     -0.720338   \n",
       "75%             0.195175                 -0.058211   2.592515     -0.371849   \n",
       "max             0.285464                 -0.038737   3.208175     -0.285176   \n",
       "\n",
       "              IC  Max Drawdown  Max Drawdown long only  daily Turnover  \n",
       "count  89.000000     89.000000               89.000000       89.000000  \n",
       "mean    0.009686      0.112088                0.379563        0.114387  \n",
       "std     0.007817      0.095287                0.082778        0.115912  \n",
       "min    -0.004113      0.020960                0.258523        0.010282  \n",
       "25%     0.002178      0.057449                0.302470        0.033663  \n",
       "50%     0.010778      0.063902                0.376716        0.068256  \n",
       "75%     0.016176      0.128797                0.438348        0.137830  \n",
       "max     0.021537      0.350836                0.589292        0.748058  "
      ]
     },
     "execution_count": 4,
     "metadata": {},
     "output_type": "execute_result"
    }
   ],
   "source": [
    "stats.describe()"
   ]
  },
  {
   "cell_type": "code",
   "execution_count": 5,
   "metadata": {},
   "outputs": [],
   "source": [
    "good_alphas = list(stats.loc[stats.IR > 2].index)"
   ]
  },
  {
   "cell_type": "code",
   "execution_count": 7,
   "metadata": {},
   "outputs": [],
   "source": [
    "# combine daily pnl\n",
    "def get_pnl():\n",
    "    res = pd.DataFrame()\n",
    "    for folderName in os.listdir(myPath.PLOT_DIR):\n",
    "        if 'zz9999' not in folderName:\n",
    "            continue\n",
    "        # print(folderName)\n",
    "        folder = myPath.PLOT_DIR/folderName/'PnL_results'\n",
    "        for fileName in os.listdir(folder):\n",
    "            file = folder/fileName\n",
    "            df = pd.read_csv(file)\n",
    "            # df = df.set_index('time')\n",
    "            # df = df['pnl']\n",
    "            df = df[['time', 'pnl']]\n",
    "            df.rename(\n",
    "                columns={'pnl': f'{folderName};{fileName[:-13]}'}, inplace=True)\n",
    "            if res.empty:\n",
    "                res = df\n",
    "            else:\n",
    "                res = res.merge(df, on='time', how='outer')\n",
    "    res = res.set_index('time').sort_index()\n",
    "    return res\n"
   ]
  },
  {
   "cell_type": "code",
   "execution_count": 8,
   "metadata": {},
   "outputs": [],
   "source": [
    "pnls = get_pnl()"
   ]
  },
  {
   "cell_type": "code",
   "execution_count": 9,
   "metadata": {},
   "outputs": [],
   "source": [
    "corr = pnls[good_alphas].corr()"
   ]
  },
  {
   "cell_type": "code",
   "execution_count": 42,
   "metadata": {},
   "outputs": [],
   "source": [
    "from itertools import combinations\n",
    "import random\n",
    "res = []\n",
    "num = 5\n",
    "good_candidates = list(\n",
    "    ((corr.mask(np.eye(len(corr), dtype=bool)).abs() < 0.6).sum() > num).index)\n",
    "random.shuffle(good_candidates)\n",
    "for cols in combinations(good_candidates, num):\n",
    "    corr_small = corr.loc[cols, cols]\n",
    "    if (~(corr_small.mask(np.eye(len(corr_small), dtype=bool)).abs() > 0.6).any()).sum() == num:\n",
    "        res.append(corr_small)"
   ]
  },
  {
   "cell_type": "code",
   "execution_count": 43,
   "metadata": {},
   "outputs": [],
   "source": [
    "max_IR = float('-inf')\n",
    "max_idx = -1\n",
    "for i in range(len(res)):\n",
    "    total_IR = np.sum([(stats.loc[stats.index==name].IR) for name in res[i].index])\n",
    "    if total_IR > max_IR:\n",
    "        max_IR = total_IR\n",
    "        max_idx = i"
   ]
  },
  {
   "cell_type": "code",
   "execution_count": 44,
   "metadata": {},
   "outputs": [
    {
     "ename": "IndexError",
     "evalue": "list index out of range",
     "output_type": "error",
     "traceback": [
      "\u001b[1;31m---------------------------------------------------------------------------\u001b[0m",
      "\u001b[1;31mIndexError\u001b[0m                                Traceback (most recent call last)",
      "Cell \u001b[1;32mIn[44], line 1\u001b[0m\n\u001b[1;32m----> 1\u001b[0m res[max_idx]\n",
      "\u001b[1;31mIndexError\u001b[0m: list index out of range"
     ]
    }
   ],
   "source": [
    "res[max_idx]"
   ]
  },
  {
   "cell_type": "code",
   "execution_count": 45,
   "metadata": {},
   "outputs": [
    {
     "data": {
      "text/plain": [
       "[]"
      ]
     },
     "execution_count": 45,
     "metadata": {},
     "output_type": "execute_result"
    }
   ],
   "source": [
    "res"
   ]
  },
  {
   "cell_type": "code",
   "execution_count": null,
   "metadata": {},
   "outputs": [],
   "source": []
  }
 ],
 "metadata": {
  "kernelspec": {
   "display_name": ".venv",
   "language": "python",
   "name": "python3"
  },
  "language_info": {
   "codemirror_mode": {
    "name": "ipython",
    "version": 3
   },
   "file_extension": ".py",
   "mimetype": "text/x-python",
   "name": "python",
   "nbconvert_exporter": "python",
   "pygments_lexer": "ipython3",
   "version": "3.10.11"
  },
  "orig_nbformat": 4
 },
 "nbformat": 4,
 "nbformat_minor": 2
}
