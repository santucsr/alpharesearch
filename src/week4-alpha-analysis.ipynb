{
 "cells": [
  {
   "cell_type": "code",
   "execution_count": 1,
   "metadata": {},
   "outputs": [],
   "source": [
    "import numpy as np\n",
    "import pandas as pd\n",
    "from pathmgmt import pathmgmt as myPath\n",
    "import os"
   ]
  },
  {
   "cell_type": "code",
   "execution_count": 2,
   "metadata": {},
   "outputs": [],
   "source": [
    "# Combine all alphas\n",
    "def get_stat():\n",
    "    res = pd.DataFrame()\n",
    "    for folderName in os.listdir(myPath.PLOT_DIR):\n",
    "        # print(folderName)\n",
    "        folder = myPath.PLOT_DIR/folderName/'statistics'\n",
    "        for fileName in os.listdir(folder):\n",
    "            # print(fileName)\n",
    "            file = folder/fileName\n",
    "            df = pd.read_csv(file)\n",
    "            df.index = [f'{folderName};{fileName[:-15]}']\n",
    "            # print(df)\n",
    "            if res.empty:\n",
    "                res = df\n",
    "            else:\n",
    "                res = pd.concat([res, df])\n",
    "    return res"
   ]
  },
  {
   "cell_type": "code",
   "execution_count": 207,
   "metadata": {},
   "outputs": [],
   "source": [
    "stats = get_stat()"
   ]
  },
  {
   "cell_type": "code",
   "execution_count": 208,
   "metadata": {},
   "outputs": [
    {
     "data": {
      "text/html": [
       "<div>\n",
       "<style scoped>\n",
       "    .dataframe tbody tr th:only-of-type {\n",
       "        vertical-align: middle;\n",
       "    }\n",
       "\n",
       "    .dataframe tbody tr th {\n",
       "        vertical-align: top;\n",
       "    }\n",
       "\n",
       "    .dataframe thead th {\n",
       "        text-align: right;\n",
       "    }\n",
       "</style>\n",
       "<table border=\"1\" class=\"dataframe\">\n",
       "  <thead>\n",
       "    <tr style=\"text-align: right;\">\n",
       "      <th></th>\n",
       "      <th>Annualized Return</th>\n",
       "      <th>Annualized Excess Return</th>\n",
       "      <th>IR</th>\n",
       "      <th>IR long only</th>\n",
       "      <th>IC</th>\n",
       "      <th>Max Drawdown</th>\n",
       "      <th>Max Drawdown long only</th>\n",
       "      <th>daily Turnover</th>\n",
       "    </tr>\n",
       "  </thead>\n",
       "  <tbody>\n",
       "    <tr>\n",
       "      <th>count</th>\n",
       "      <td>720.000000</td>\n",
       "      <td>720.000000</td>\n",
       "      <td>720.000000</td>\n",
       "      <td>720.000000</td>\n",
       "      <td>720.000000</td>\n",
       "      <td>720.000000</td>\n",
       "      <td>720.000000</td>\n",
       "      <td>720.000000</td>\n",
       "    </tr>\n",
       "    <tr>\n",
       "      <th>mean</th>\n",
       "      <td>0.044428</td>\n",
       "      <td>-0.068282</td>\n",
       "      <td>0.564155</td>\n",
       "      <td>-1.168306</td>\n",
       "      <td>0.003999</td>\n",
       "      <td>0.159505</td>\n",
       "      <td>0.325737</td>\n",
       "      <td>0.164064</td>\n",
       "    </tr>\n",
       "    <tr>\n",
       "      <th>std</th>\n",
       "      <td>0.107357</td>\n",
       "      <td>0.065585</td>\n",
       "      <td>1.295154</td>\n",
       "      <td>1.356100</td>\n",
       "      <td>0.008709</td>\n",
       "      <td>0.141975</td>\n",
       "      <td>0.140119</td>\n",
       "      <td>0.177475</td>\n",
       "    </tr>\n",
       "    <tr>\n",
       "      <th>min</th>\n",
       "      <td>-0.251808</td>\n",
       "      <td>-0.270461</td>\n",
       "      <td>-2.642853</td>\n",
       "      <td>-5.404325</td>\n",
       "      <td>-0.018600</td>\n",
       "      <td>0.011590</td>\n",
       "      <td>0.107087</td>\n",
       "      <td>0.014220</td>\n",
       "    </tr>\n",
       "    <tr>\n",
       "      <th>25%</th>\n",
       "      <td>-0.022203</td>\n",
       "      <td>-0.104098</td>\n",
       "      <td>-0.365392</td>\n",
       "      <td>-1.667380</td>\n",
       "      <td>-0.002467</td>\n",
       "      <td>0.069693</td>\n",
       "      <td>0.212837</td>\n",
       "      <td>0.050164</td>\n",
       "    </tr>\n",
       "    <tr>\n",
       "      <th>50%</th>\n",
       "      <td>0.054708</td>\n",
       "      <td>-0.052383</td>\n",
       "      <td>0.857209</td>\n",
       "      <td>-0.697302</td>\n",
       "      <td>0.006858</td>\n",
       "      <td>0.102951</td>\n",
       "      <td>0.300963</td>\n",
       "      <td>0.100103</td>\n",
       "    </tr>\n",
       "    <tr>\n",
       "      <th>75%</th>\n",
       "      <td>0.114040</td>\n",
       "      <td>-0.019820</td>\n",
       "      <td>1.536477</td>\n",
       "      <td>-0.185297</td>\n",
       "      <td>0.010554</td>\n",
       "      <td>0.191944</td>\n",
       "      <td>0.419948</td>\n",
       "      <td>0.209235</td>\n",
       "    </tr>\n",
       "    <tr>\n",
       "      <th>max</th>\n",
       "      <td>0.313484</td>\n",
       "      <td>0.063304</td>\n",
       "      <td>3.158405</td>\n",
       "      <td>0.855123</td>\n",
       "      <td>0.019801</td>\n",
       "      <td>0.772929</td>\n",
       "      <td>0.762976</td>\n",
       "      <td>1.236467</td>\n",
       "    </tr>\n",
       "  </tbody>\n",
       "</table>\n",
       "</div>"
      ],
      "text/plain": [
       "       Annualized Return  Annualized Excess Return          IR  IR long only  \\\n",
       "count         720.000000                720.000000  720.000000    720.000000   \n",
       "mean            0.044428                 -0.068282    0.564155     -1.168306   \n",
       "std             0.107357                  0.065585    1.295154      1.356100   \n",
       "min            -0.251808                 -0.270461   -2.642853     -5.404325   \n",
       "25%            -0.022203                 -0.104098   -0.365392     -1.667380   \n",
       "50%             0.054708                 -0.052383    0.857209     -0.697302   \n",
       "75%             0.114040                 -0.019820    1.536477     -0.185297   \n",
       "max             0.313484                  0.063304    3.158405      0.855123   \n",
       "\n",
       "               IC  Max Drawdown  Max Drawdown long only  daily Turnover  \n",
       "count  720.000000    720.000000              720.000000      720.000000  \n",
       "mean     0.003999      0.159505                0.325737        0.164064  \n",
       "std      0.008709      0.141975                0.140119        0.177475  \n",
       "min     -0.018600      0.011590                0.107087        0.014220  \n",
       "25%     -0.002467      0.069693                0.212837        0.050164  \n",
       "50%      0.006858      0.102951                0.300963        0.100103  \n",
       "75%      0.010554      0.191944                0.419948        0.209235  \n",
       "max      0.019801      0.772929                0.762976        1.236467  "
      ]
     },
     "execution_count": 208,
     "metadata": {},
     "output_type": "execute_result"
    }
   ],
   "source": [
    "stats.describe()"
   ]
  },
  {
   "attachments": {},
   "cell_type": "markdown",
   "metadata": {},
   "source": [
    "> We first select alphas with IR larger than 2"
   ]
  },
  {
   "cell_type": "code",
   "execution_count": 209,
   "metadata": {},
   "outputs": [],
   "source": [
    "good_alphas = list(stats.loc[stats.IR > 2].index)"
   ]
  },
  {
   "cell_type": "code",
   "execution_count": 210,
   "metadata": {},
   "outputs": [
    {
     "data": {
      "text/plain": [
       "['alpha.YaoReV001-10days-zz1000;20180101-20201231-Rank-Industry-holding20days',\n",
       " 'alpha.YaoReV001-10days-zz1000;20180101-20201231-Rank-Industry_with_weighted_cap-holding20days',\n",
       " 'alpha.YaoReV001-20days-zz1000;20180101-20201231-Rank-Industry-holding10days',\n",
       " 'alpha.YaoReV001-20days-zz1000;20180101-20201231-Rank-Industry-holding1days',\n",
       " 'alpha.YaoReV001-20days-zz1000;20180101-20201231-Rank-Industry-holding20days',\n",
       " 'alpha.YaoReV001-20days-zz1000;20180101-20201231-Rank-Industry-holding3days',\n",
       " 'alpha.YaoReV001-20days-zz1000;20180101-20201231-Rank-Industry-holding5days',\n",
       " 'alpha.YaoReV001-20days-zz1000;20180101-20201231-Rank-Industry_with_weighted_cap-holding10days',\n",
       " 'alpha.YaoReV001-20days-zz1000;20180101-20201231-Rank-Industry_with_weighted_cap-holding1days',\n",
       " 'alpha.YaoReV001-20days-zz1000;20180101-20201231-Rank-Industry_with_weighted_cap-holding3days',\n",
       " 'alpha.YaoReV001-20days-zz1000;20180101-20201231-Rank-Industry_with_weighted_cap-holding5days',\n",
       " 'alpha.YaoReV002-10days-20days-zz1000;20180101-20201231-Rank-Industry-holding10days',\n",
       " 'alpha.YaoReV002-10days-20days-zz1000;20180101-20201231-Rank-Industry-holding1days',\n",
       " 'alpha.YaoReV002-10days-20days-zz1000;20180101-20201231-Rank-Industry-holding20days',\n",
       " 'alpha.YaoReV002-10days-20days-zz1000;20180101-20201231-Rank-Industry-holding3days',\n",
       " 'alpha.YaoReV002-10days-20days-zz1000;20180101-20201231-Rank-Industry-holding5days',\n",
       " 'alpha.YaoReV002-3days-20days-zz1000;20180101-20201231-Rank-Industry-holding10days',\n",
       " 'alpha.YaoReV002-3days-20days-zz1000;20180101-20201231-Rank-Industry-holding1days',\n",
       " 'alpha.YaoReV002-3days-20days-zz1000;20180101-20201231-Rank-Industry-holding20days',\n",
       " 'alpha.YaoReV002-3days-20days-zz1000;20180101-20201231-Rank-Industry-holding3days',\n",
       " 'alpha.YaoReV002-3days-20days-zz1000;20180101-20201231-Rank-Industry-holding5days',\n",
       " 'alpha.YaoReV002-3days-60days-zz1000;20180101-20201231-Rank-Industry-holding1days',\n",
       " 'alpha.YaoReV002-3days-60days-zz1000;20180101-20201231-Rank-Industry-holding3days',\n",
       " 'alpha.YaoReV002-5days-20days-zz1000;20180101-20201231-Rank-Industry-holding10days',\n",
       " 'alpha.YaoReV002-5days-20days-zz1000;20180101-20201231-Rank-Industry-holding1days',\n",
       " 'alpha.YaoReV002-5days-20days-zz1000;20180101-20201231-Rank-Industry-holding20days',\n",
       " 'alpha.YaoReV002-5days-20days-zz1000;20180101-20201231-Rank-Industry-holding3days',\n",
       " 'alpha.YaoReV002-5days-20days-zz1000;20180101-20201231-Rank-Industry-holding5days',\n",
       " 'alpha.YaoReV002-5days-60days-zz1000;20180101-20201231-Rank-Industry-holding1days',\n",
       " 'alpha.YaoReV003-20days-zz1000;20180101-20201231-Rank-Industry-holding20days',\n",
       " 'alpha.YaoReV005-10days-zz1000;20180101-20201231-Rank-Industry-holding20days',\n",
       " 'alpha.YaoReV005-10days-zz1000;20180101-20201231-Rank-Industry_with_weighted_cap-holding20days',\n",
       " 'alpha.YaoReV005-10days-zz1000;20180101-20201231-Rank-Industry_with_weighted_cap-holding60days',\n",
       " 'alpha.YaoReV005-20days-zz1000;20180101-20201231-Rank-Industry-holding10days',\n",
       " 'alpha.YaoReV005-20days-zz1000;20180101-20201231-Rank-Industry-holding1days',\n",
       " 'alpha.YaoReV005-20days-zz1000;20180101-20201231-Rank-Industry-holding20days',\n",
       " 'alpha.YaoReV005-20days-zz1000;20180101-20201231-Rank-Industry-holding3days',\n",
       " 'alpha.YaoReV005-20days-zz1000;20180101-20201231-Rank-Industry-holding5days',\n",
       " 'alpha.YaoReV005-20days-zz1000;20180101-20201231-Rank-Industry_with_weighted_cap-holding10days',\n",
       " 'alpha.YaoReV005-20days-zz1000;20180101-20201231-Rank-Industry_with_weighted_cap-holding1days',\n",
       " 'alpha.YaoReV005-20days-zz1000;20180101-20201231-Rank-Industry_with_weighted_cap-holding20days',\n",
       " 'alpha.YaoReV005-20days-zz1000;20180101-20201231-Rank-Industry_with_weighted_cap-holding3days',\n",
       " 'alpha.YaoReV005-20days-zz1000;20180101-20201231-Rank-Industry_with_weighted_cap-holding5days',\n",
       " 'alpha.YaoReV005-5days-zz1000;20180101-20201231-Rank-Industry_with_weighted_cap-holding20days',\n",
       " 'alpha.YaoReV005-60days-zz1000;20180101-20201231-Rank-Industry-holding10days',\n",
       " 'alpha.YaoReV005-60days-zz1000;20180101-20201231-Rank-Industry-holding1days',\n",
       " 'alpha.YaoReV005-60days-zz1000;20180101-20201231-Rank-Industry-holding3days',\n",
       " 'alpha.YaoReV005-60days-zz1000;20180101-20201231-Rank-Industry-holding5days',\n",
       " 'alpha.YaoReV005-60days-zz1000;20180101-20201231-Rank-Industry_with_weighted_cap-holding1days',\n",
       " 'alpha.YaoReV005-60days-zz1000;20180101-20201231-Rank-Industry_with_weighted_cap-holding3days',\n",
       " 'alpha.YaoReV005-60days-zz1000;20180101-20201231-Rank-Industry_with_weighted_cap-holding5days',\n",
       " 'alpha.YaoReV006-10days-zz1000;20180101-20201231-Rank-Industry-holding10days',\n",
       " 'alpha.YaoReV006-10days-zz1000;20180101-20201231-Rank-Industry-holding20days',\n",
       " 'alpha.YaoReV006-10days-zz1000;20180101-20201231-Rank-Industry_with_weighted_cap-holding10days',\n",
       " 'alpha.YaoReV006-10days-zz1000;20180101-20201231-Rank-Industry_with_weighted_cap-holding20days',\n",
       " 'alpha.YaoReV006-10days-zz1000;20180101-20201231-Rank-None-holding20days',\n",
       " 'alpha.YaoReV006-20days-zz1000;20180101-20201231-Rank-Industry-holding10days',\n",
       " 'alpha.YaoReV006-20days-zz1000;20180101-20201231-Rank-Industry-holding1days',\n",
       " 'alpha.YaoReV006-20days-zz1000;20180101-20201231-Rank-Industry-holding20days',\n",
       " 'alpha.YaoReV006-20days-zz1000;20180101-20201231-Rank-Industry-holding3days',\n",
       " 'alpha.YaoReV006-20days-zz1000;20180101-20201231-Rank-Industry-holding5days',\n",
       " 'alpha.YaoReV006-20days-zz1000;20180101-20201231-Rank-Industry_with_weighted_cap-holding10days',\n",
       " 'alpha.YaoReV006-20days-zz1000;20180101-20201231-Rank-Industry_with_weighted_cap-holding1days',\n",
       " 'alpha.YaoReV006-20days-zz1000;20180101-20201231-Rank-Industry_with_weighted_cap-holding20days',\n",
       " 'alpha.YaoReV006-20days-zz1000;20180101-20201231-Rank-Industry_with_weighted_cap-holding3days',\n",
       " 'alpha.YaoReV006-20days-zz1000;20180101-20201231-Rank-Industry_with_weighted_cap-holding5days',\n",
       " 'alpha.YaoReV006-20days-zz1000;20180101-20201231-Rank-None-holding10days',\n",
       " 'alpha.YaoReV006-20days-zz1000;20180101-20201231-Rank-None-holding20days',\n",
       " 'alpha.YaoReV006-20days-zz1000;20180101-20201231-Rank-None-holding3days',\n",
       " 'alpha.YaoReV006-20days-zz1000;20180101-20201231-Rank-None-holding5days',\n",
       " 'alpha.YaoReV006-3days-zz1000;20180101-20201231-Rank-Industry-holding20days',\n",
       " 'alpha.YaoReV006-3days-zz1000;20180101-20201231-Rank-Industry_with_weighted_cap-holding20days',\n",
       " 'alpha.YaoReV006-5days-zz1000;20180101-20201231-Rank-Industry-holding20days',\n",
       " 'alpha.YaoReV006-5days-zz1000;20180101-20201231-Rank-Industry_with_weighted_cap-holding20days',\n",
       " 'alpha.YaoReV006-60days-zz1000;20180101-20201231-Rank-Industry-holding10days',\n",
       " 'alpha.YaoReV006-60days-zz1000;20180101-20201231-Rank-Industry-holding1days',\n",
       " 'alpha.YaoReV006-60days-zz1000;20180101-20201231-Rank-Industry-holding3days',\n",
       " 'alpha.YaoReV006-60days-zz1000;20180101-20201231-Rank-Industry-holding5days',\n",
       " 'alpha.YaoReV007-20days-zz1000;20180101-20201231-Rank-Industry-holding10days',\n",
       " 'alpha.YaoReV007-20days-zz1000;20180101-20201231-Rank-Industry-holding3days',\n",
       " 'alpha.YaoReV007-20days-zz1000;20180101-20201231-Rank-Industry-holding5days',\n",
       " 'alpha.YaoReV007-20days-zz1000;20180101-20201231-Rank-Industry_with_weighted_cap-holding10days',\n",
       " 'alpha.YaoReV007-20days-zz1000;20180101-20201231-Rank-Industry_with_weighted_cap-holding3days',\n",
       " 'alpha.YaoReV007-20days-zz1000;20180101-20201231-Rank-Industry_with_weighted_cap-holding5days']"
      ]
     },
     "execution_count": 210,
     "metadata": {},
     "output_type": "execute_result"
    }
   ],
   "source": [
    "good_alphas"
   ]
  },
  {
   "cell_type": "code",
   "execution_count": 211,
   "metadata": {},
   "outputs": [
    {
     "data": {
      "text/plain": [
       "84"
      ]
     },
     "execution_count": 211,
     "metadata": {},
     "output_type": "execute_result"
    }
   ],
   "source": [
    "len(good_alphas)"
   ]
  },
  {
   "cell_type": "code",
   "execution_count": 212,
   "metadata": {},
   "outputs": [],
   "source": [
    "# combine daily pnl\n",
    "def get_pnl():\n",
    "    res = pd.DataFrame()\n",
    "    for folderName in os.listdir(myPath.PLOT_DIR):\n",
    "        # print(folderName)\n",
    "        folder = myPath.PLOT_DIR/folderName/'PnL_results'\n",
    "        for fileName in os.listdir(folder):\n",
    "            file = folder/fileName\n",
    "            df = pd.read_csv(file)\n",
    "            # df = df.set_index('time')\n",
    "            # df = df['pnl']\n",
    "            df = df[['time', 'pnl']]\n",
    "            df.rename(\n",
    "                columns={'pnl': f'{folderName};{fileName[:-13]}'}, inplace=True)\n",
    "            if res.empty:\n",
    "                res = df\n",
    "            else:\n",
    "                res = res.merge(df, on='time', how='outer')\n",
    "    res = res.set_index('time').sort_index()\n",
    "    return res"
   ]
  },
  {
   "cell_type": "code",
   "execution_count": 213,
   "metadata": {},
   "outputs": [],
   "source": [
    "pnls = get_pnl()"
   ]
  },
  {
   "attachments": {},
   "cell_type": "markdown",
   "metadata": {},
   "source": [
    "> Compute correlation matrix on good alpha candidates"
   ]
  },
  {
   "cell_type": "code",
   "execution_count": 214,
   "metadata": {},
   "outputs": [],
   "source": [
    "corr = pnls[good_alphas].corr()"
   ]
  },
  {
   "attachments": {},
   "cell_type": "markdown",
   "metadata": {},
   "source": [
    "> We want to select alphas with less correlations"
   ]
  },
  {
   "cell_type": "code",
   "execution_count": 215,
   "metadata": {},
   "outputs": [
    {
     "data": {
      "text/plain": [
       "alpha.YaoReV001-10days-zz1000;20180101-20201231-Rank-Industry-holding20days                      15\n",
       "alpha.YaoReV001-10days-zz1000;20180101-20201231-Rank-Industry_with_weighted_cap-holding20days    29\n",
       "alpha.YaoReV001-20days-zz1000;20180101-20201231-Rank-Industry-holding10days                      14\n",
       "alpha.YaoReV001-20days-zz1000;20180101-20201231-Rank-Industry-holding1days                        5\n",
       "alpha.YaoReV001-20days-zz1000;20180101-20201231-Rank-Industry-holding20days                      37\n",
       "                                                                                                 ..\n",
       "alpha.YaoReV007-20days-zz1000;20180101-20201231-Rank-Industry-holding3days                        6\n",
       "alpha.YaoReV007-20days-zz1000;20180101-20201231-Rank-Industry-holding5days                        7\n",
       "alpha.YaoReV007-20days-zz1000;20180101-20201231-Rank-Industry_with_weighted_cap-holding10days    39\n",
       "alpha.YaoReV007-20days-zz1000;20180101-20201231-Rank-Industry_with_weighted_cap-holding3days     31\n",
       "alpha.YaoReV007-20days-zz1000;20180101-20201231-Rank-Industry_with_weighted_cap-holding5days     29\n",
       "Length: 84, dtype: int64"
      ]
     },
     "execution_count": 215,
     "metadata": {},
     "output_type": "execute_result"
    }
   ],
   "source": [
    "(corr.mask(np.eye(len(corr), dtype=bool)).abs() < 0.6).sum()"
   ]
  },
  {
   "cell_type": "code",
   "execution_count": 216,
   "metadata": {},
   "outputs": [],
   "source": [
    "# small_corr = (corr.mask(np.eye(len(corr), dtype=bool)).abs() < 0.6).sum() >= 5\n",
    "# corr.loc[small_corr, small_corr]"
   ]
  },
  {
   "attachments": {},
   "cell_type": "markdown",
   "metadata": {},
   "source": [
    "> one set of alphas with all pairwise correlations less than 0.6"
   ]
  },
  {
   "cell_type": "code",
   "execution_count": 217,
   "metadata": {},
   "outputs": [],
   "source": [
    "from itertools import combinations\n",
    "import random\n",
    "res = []\n",
    "num = 4\n",
    "random.shuffle(good_alphas)\n",
    "for cols in combinations(good_alphas, num):\n",
    "    corr_small = corr.loc[cols, cols]\n",
    "    if (~(corr_small.mask(np.eye(len(corr_small), dtype=bool)).abs() > 0.6).any()).sum() == num:\n",
    "        break"
   ]
  },
  {
   "cell_type": "code",
   "execution_count": 219,
   "metadata": {},
   "outputs": [
    {
     "data": {
      "text/html": [
       "<div>\n",
       "<style scoped>\n",
       "    .dataframe tbody tr th:only-of-type {\n",
       "        vertical-align: middle;\n",
       "    }\n",
       "\n",
       "    .dataframe tbody tr th {\n",
       "        vertical-align: top;\n",
       "    }\n",
       "\n",
       "    .dataframe thead th {\n",
       "        text-align: right;\n",
       "    }\n",
       "</style>\n",
       "<table border=\"1\" class=\"dataframe\">\n",
       "  <thead>\n",
       "    <tr style=\"text-align: right;\">\n",
       "      <th></th>\n",
       "      <th>alpha.YaoReV001-20days-zz1000;20180101-20201231-Rank-Industry-holding20days</th>\n",
       "      <th>alpha.YaoReV006-20days-zz1000;20180101-20201231-Rank-Industry-holding5days</th>\n",
       "      <th>alpha.YaoReV005-10days-zz1000;20180101-20201231-Rank-Industry_with_weighted_cap-holding60days</th>\n",
       "      <th>alpha.YaoReV001-20days-zz1000;20180101-20201231-Rank-Industry_with_weighted_cap-holding1days</th>\n",
       "    </tr>\n",
       "  </thead>\n",
       "  <tbody>\n",
       "    <tr>\n",
       "      <th>alpha.YaoReV001-20days-zz1000;20180101-20201231-Rank-Industry-holding20days</th>\n",
       "      <td>1.000000</td>\n",
       "      <td>0.540033</td>\n",
       "      <td>0.458964</td>\n",
       "      <td>0.547046</td>\n",
       "    </tr>\n",
       "    <tr>\n",
       "      <th>alpha.YaoReV006-20days-zz1000;20180101-20201231-Rank-Industry-holding5days</th>\n",
       "      <td>0.540033</td>\n",
       "      <td>1.000000</td>\n",
       "      <td>0.425605</td>\n",
       "      <td>0.584366</td>\n",
       "    </tr>\n",
       "    <tr>\n",
       "      <th>alpha.YaoReV005-10days-zz1000;20180101-20201231-Rank-Industry_with_weighted_cap-holding60days</th>\n",
       "      <td>0.458964</td>\n",
       "      <td>0.425605</td>\n",
       "      <td>1.000000</td>\n",
       "      <td>0.595894</td>\n",
       "    </tr>\n",
       "    <tr>\n",
       "      <th>alpha.YaoReV001-20days-zz1000;20180101-20201231-Rank-Industry_with_weighted_cap-holding1days</th>\n",
       "      <td>0.547046</td>\n",
       "      <td>0.584366</td>\n",
       "      <td>0.595894</td>\n",
       "      <td>1.000000</td>\n",
       "    </tr>\n",
       "  </tbody>\n",
       "</table>\n",
       "</div>"
      ],
      "text/plain": [
       "                                                    alpha.YaoReV001-20days-zz1000;20180101-20201231-Rank-Industry-holding20days  \\\n",
       "alpha.YaoReV001-20days-zz1000;20180101-20201231...                                           1.000000                             \n",
       "alpha.YaoReV006-20days-zz1000;20180101-20201231...                                           0.540033                             \n",
       "alpha.YaoReV005-10days-zz1000;20180101-20201231...                                           0.458964                             \n",
       "alpha.YaoReV001-20days-zz1000;20180101-20201231...                                           0.547046                             \n",
       "\n",
       "                                                    alpha.YaoReV006-20days-zz1000;20180101-20201231-Rank-Industry-holding5days  \\\n",
       "alpha.YaoReV001-20days-zz1000;20180101-20201231...                                           0.540033                            \n",
       "alpha.YaoReV006-20days-zz1000;20180101-20201231...                                           1.000000                            \n",
       "alpha.YaoReV005-10days-zz1000;20180101-20201231...                                           0.425605                            \n",
       "alpha.YaoReV001-20days-zz1000;20180101-20201231...                                           0.584366                            \n",
       "\n",
       "                                                    alpha.YaoReV005-10days-zz1000;20180101-20201231-Rank-Industry_with_weighted_cap-holding60days  \\\n",
       "alpha.YaoReV001-20days-zz1000;20180101-20201231...                                           0.458964                                               \n",
       "alpha.YaoReV006-20days-zz1000;20180101-20201231...                                           0.425605                                               \n",
       "alpha.YaoReV005-10days-zz1000;20180101-20201231...                                           1.000000                                               \n",
       "alpha.YaoReV001-20days-zz1000;20180101-20201231...                                           0.595894                                               \n",
       "\n",
       "                                                    alpha.YaoReV001-20days-zz1000;20180101-20201231-Rank-Industry_with_weighted_cap-holding1days  \n",
       "alpha.YaoReV001-20days-zz1000;20180101-20201231...                                           0.547046                                             \n",
       "alpha.YaoReV006-20days-zz1000;20180101-20201231...                                           0.584366                                             \n",
       "alpha.YaoReV005-10days-zz1000;20180101-20201231...                                           0.595894                                             \n",
       "alpha.YaoReV001-20days-zz1000;20180101-20201231...                                           1.000000                                             "
      ]
     },
     "execution_count": 219,
     "metadata": {},
     "output_type": "execute_result"
    }
   ],
   "source": [
    "corr_small"
   ]
  },
  {
   "cell_type": "code",
   "execution_count": 220,
   "metadata": {},
   "outputs": [],
   "source": [
    "# num = 5\n",
    "# random.shuffle(good_alphas)\n",
    "# for cols in combinations(good_alphas, num):\n",
    "#     corr_small = corr.loc[cols, cols]\n",
    "#     if (~(corr_small.mask(np.eye(len(corr_small), dtype=bool)).abs() > 0.6).any()).sum() == num:\n",
    "#         break"
   ]
  },
  {
   "attachments": {},
   "cell_type": "markdown",
   "metadata": {},
   "source": [
    "> one of our choice for this batch is as follows:"
   ]
  },
  {
   "cell_type": "code",
   "execution_count": 221,
   "metadata": {},
   "outputs": [],
   "source": [
    "batch1 = corr.loc[cols, cols].columns"
   ]
  },
  {
   "cell_type": "code",
   "execution_count": 222,
   "metadata": {},
   "outputs": [
    {
     "data": {
      "text/html": [
       "<div>\n",
       "<style scoped>\n",
       "    .dataframe tbody tr th:only-of-type {\n",
       "        vertical-align: middle;\n",
       "    }\n",
       "\n",
       "    .dataframe tbody tr th {\n",
       "        vertical-align: top;\n",
       "    }\n",
       "\n",
       "    .dataframe thead th {\n",
       "        text-align: right;\n",
       "    }\n",
       "</style>\n",
       "<table border=\"1\" class=\"dataframe\">\n",
       "  <thead>\n",
       "    <tr style=\"text-align: right;\">\n",
       "      <th></th>\n",
       "      <th>alpha.YaoReV001-20days-zz1000;20180101-20201231-Rank-Industry-holding20days</th>\n",
       "      <th>alpha.YaoReV006-20days-zz1000;20180101-20201231-Rank-Industry-holding5days</th>\n",
       "      <th>alpha.YaoReV005-10days-zz1000;20180101-20201231-Rank-Industry_with_weighted_cap-holding60days</th>\n",
       "      <th>alpha.YaoReV001-20days-zz1000;20180101-20201231-Rank-Industry_with_weighted_cap-holding1days</th>\n",
       "    </tr>\n",
       "  </thead>\n",
       "  <tbody>\n",
       "    <tr>\n",
       "      <th>Annualized Return</th>\n",
       "      <td>0.147113</td>\n",
       "      <td>0.197159</td>\n",
       "      <td>0.062174</td>\n",
       "      <td>0.306856</td>\n",
       "    </tr>\n",
       "    <tr>\n",
       "      <th>Annualized Excess Return</th>\n",
       "      <td>0.011869</td>\n",
       "      <td>-0.033943</td>\n",
       "      <td>0.015858</td>\n",
       "      <td>0.017413</td>\n",
       "    </tr>\n",
       "    <tr>\n",
       "      <th>IR</th>\n",
       "      <td>2.079685</td>\n",
       "      <td>2.809481</td>\n",
       "      <td>2.098212</td>\n",
       "      <td>2.244268</td>\n",
       "    </tr>\n",
       "    <tr>\n",
       "      <th>IR long only</th>\n",
       "      <td>0.134000</td>\n",
       "      <td>-0.756335</td>\n",
       "      <td>0.086331</td>\n",
       "      <td>0.194662</td>\n",
       "    </tr>\n",
       "    <tr>\n",
       "      <th>IC</th>\n",
       "      <td>0.013303</td>\n",
       "      <td>0.014905</td>\n",
       "      <td>0.009396</td>\n",
       "      <td>0.019425</td>\n",
       "    </tr>\n",
       "    <tr>\n",
       "      <th>Max Drawdown</th>\n",
       "      <td>0.074698</td>\n",
       "      <td>0.051291</td>\n",
       "      <td>0.024678</td>\n",
       "      <td>0.143059</td>\n",
       "    </tr>\n",
       "    <tr>\n",
       "      <th>Max Drawdown long only</th>\n",
       "      <td>0.197889</td>\n",
       "      <td>0.157178</td>\n",
       "      <td>0.392852</td>\n",
       "      <td>0.134623</td>\n",
       "    </tr>\n",
       "    <tr>\n",
       "      <th>daily Turnover</th>\n",
       "      <td>0.068344</td>\n",
       "      <td>0.137743</td>\n",
       "      <td>0.022273</td>\n",
       "      <td>0.307028</td>\n",
       "    </tr>\n",
       "  </tbody>\n",
       "</table>\n",
       "</div>"
      ],
      "text/plain": [
       "                          alpha.YaoReV001-20days-zz1000;20180101-20201231-Rank-Industry-holding20days  \\\n",
       "Annualized Return                                                  0.147113                             \n",
       "Annualized Excess Return                                           0.011869                             \n",
       "IR                                                                 2.079685                             \n",
       "IR long only                                                       0.134000                             \n",
       "IC                                                                 0.013303                             \n",
       "Max Drawdown                                                       0.074698                             \n",
       "Max Drawdown long only                                             0.197889                             \n",
       "daily Turnover                                                     0.068344                             \n",
       "\n",
       "                          alpha.YaoReV006-20days-zz1000;20180101-20201231-Rank-Industry-holding5days  \\\n",
       "Annualized Return                                                  0.197159                            \n",
       "Annualized Excess Return                                          -0.033943                            \n",
       "IR                                                                 2.809481                            \n",
       "IR long only                                                      -0.756335                            \n",
       "IC                                                                 0.014905                            \n",
       "Max Drawdown                                                       0.051291                            \n",
       "Max Drawdown long only                                             0.157178                            \n",
       "daily Turnover                                                     0.137743                            \n",
       "\n",
       "                          alpha.YaoReV005-10days-zz1000;20180101-20201231-Rank-Industry_with_weighted_cap-holding60days  \\\n",
       "Annualized Return                                                  0.062174                                               \n",
       "Annualized Excess Return                                           0.015858                                               \n",
       "IR                                                                 2.098212                                               \n",
       "IR long only                                                       0.086331                                               \n",
       "IC                                                                 0.009396                                               \n",
       "Max Drawdown                                                       0.024678                                               \n",
       "Max Drawdown long only                                             0.392852                                               \n",
       "daily Turnover                                                     0.022273                                               \n",
       "\n",
       "                          alpha.YaoReV001-20days-zz1000;20180101-20201231-Rank-Industry_with_weighted_cap-holding1days  \n",
       "Annualized Return                                                  0.306856                                             \n",
       "Annualized Excess Return                                           0.017413                                             \n",
       "IR                                                                 2.244268                                             \n",
       "IR long only                                                       0.194662                                             \n",
       "IC                                                                 0.019425                                             \n",
       "Max Drawdown                                                       0.143059                                             \n",
       "Max Drawdown long only                                             0.134623                                             \n",
       "daily Turnover                                                     0.307028                                             "
      ]
     },
     "execution_count": 222,
     "metadata": {},
     "output_type": "execute_result"
    }
   ],
   "source": [
    "stats.T[batch1]"
   ]
  },
  {
   "cell_type": "code",
   "execution_count": null,
   "metadata": {},
   "outputs": [],
   "source": []
  }
 ],
 "metadata": {
  "kernelspec": {
   "display_name": ".venv",
   "language": "python",
   "name": "python3"
  },
  "language_info": {
   "codemirror_mode": {
    "name": "ipython",
    "version": 3
   },
   "file_extension": ".py",
   "mimetype": "text/x-python",
   "name": "python",
   "nbconvert_exporter": "python",
   "pygments_lexer": "ipython3",
   "version": "3.10.11"
  },
  "orig_nbformat": 4
 },
 "nbformat": 4,
 "nbformat_minor": 2
}
