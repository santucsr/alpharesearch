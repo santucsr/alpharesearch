{
 "cells": [
  {
   "cell_type": "code",
   "execution_count": 1,
   "metadata": {},
   "outputs": [],
   "source": [
    "from datetime import datetime\n",
    "import logging\n",
    "from multiprocessing import Pool\n",
    "\n",
    "import numpy as np\n",
    "import pandas as pd\n",
    "\n",
    "import os\n",
    "from PIL import Image\n"
   ]
  },
  {
   "cell_type": "code",
   "execution_count": 146,
   "metadata": {},
   "outputs": [],
   "source": [
    "from loader import dataloader\n",
    "from pathmgmt import pathmgmt as myPath\n",
    "from alpha_perfmc import metrics\n",
    "from alpha_perfmc import utility\n",
    "from logger import logger as myLogger"
   ]
  },
  {
   "cell_type": "code",
   "execution_count": 147,
   "metadata": {},
   "outputs": [],
   "source": [
    "import warnings\n",
    "warnings.filterwarnings('ignore')\n"
   ]
  },
  {
   "cell_type": "code",
   "execution_count": 148,
   "metadata": {},
   "outputs": [],
   "source": [
    "logger = myLogger.Logger(__name__)\n",
    "logger.init(console_handler=True)"
   ]
  },
  {
   "cell_type": "code",
   "execution_count": 149,
   "metadata": {},
   "outputs": [],
   "source": [
    "class PnLCalculator():\n",
    "    def __init__(self, args_dict):\n",
    "        self.__name = args_dict['table_name']\n",
    "        self.__universe = self.__name.split('-')[-1]\n",
    "        self.__start = args_dict['start_date']\n",
    "        self.__end = args_dict['end_date']\n",
    "        self.__alpha = self.__load_alpha()\n",
    "        self.__transform = args_dict['transform']\n",
    "        self.__neutralize = args_dict['neutralize']\n",
    "        self.__holding = args_dict['holding']\n",
    "        self.__longname = f'{self.__name};{self.__start}-{self.__end}-{self.__transform}-{self.__neutralize}-holding{self.__holding}days'\n",
    "        \n",
    "    def __load_alpha(self):\n",
    "        logger().debug(\"loading computed alphas...\")\n",
    "        alphas = dataloader.loading(\n",
    "            tab_name=self.__name, start=self.__start, end=self.__end, fields=['code', 'name', 'alpha', 'fut_ret_1d'])\n",
    "        logger().debug(\"loading computed alphas...Done!\")\n",
    "        return alphas\n",
    "    \n",
    "    def compute_pnl(self):\n",
    "        # convert alphas into positions\n",
    "        self.__alpha = utility.alpha_to_weight(self.__alpha, self.__transform, self.__neutralize)\n",
    "        # compute rolling alphas for holding period larger than 1\n",
    "        self.__alpha = utility.rolling(self.__alpha, self.__holding)\n",
    "        # compute pnl"
   ]
  },
  {
   "cell_type": "code",
   "execution_count": 150,
   "metadata": {},
   "outputs": [],
   "source": [
    "def save(df, dates, tableName):\n",
    "    tableDir = myPath.ALPHA_DIR/tableName\n",
    "    tableDir.mkdir(parents=True, exist_ok=True)\n",
    "    logger().debug(f\"Start writing to files for alpha {tableName}...\")\n",
    "\n",
    "    for date in dates:\n",
    "        outputfile = myPath.ALPHA_DIR/tableName/(date+'.csv')\n",
    "        if outputfile.exists():\n",
    "            return\n",
    "        try:\n",
    "            df1d = df.loc[df.index == date].reset_index()\n",
    "            df1d.time = df1d.time.dt.strftime(\"%Y%m%d\")\n",
    "            df1d = df1d[['time', 'code', 'name', 'alpha', 'fut_ret_1d']]\n",
    "            df1d.to_csv(outputfile, index=False)\n",
    "            # logger().info(f\"Writing to file on date {date} for alpha {tab}...Done!\")\n",
    "        except:\n",
    "            logger().error(\n",
    "                f\"Exception when Writing to file on date {date} for alpha {tableName}\")\n",
    "\n",
    "    logger().debug(\"Writing to files...Done!\")"
   ]
  },
  {
   "cell_type": "code",
   "execution_count": 170,
   "metadata": {},
   "outputs": [],
   "source": [
    "def read_alphas(config):\n",
    "    res = pd.DataFrame()\n",
    "    for config in args_dict_list:\n",
    "        calcobj = PnLCalculator(config)\n",
    "        calcobj.compute_pnl()\n",
    "        alphas = calcobj._PnLCalculator__alpha\n",
    "        alphas = alphas[['code', 'name', 'weights', 'fut_ret_1d']]\n",
    "        alphas.rename(columns={'weights': calcobj._PnLCalculator__longname}, inplace=True)\n",
    "        if res.empty:\n",
    "            res = alphas\n",
    "        else:\n",
    "            res = res.reset_index().merge(alphas.reset_index(), on=['time', 'code', 'name', 'fut_ret_1d'], how='inner').set_index('time')\n",
    "    return res"
   ]
  },
  {
   "cell_type": "code",
   "execution_count": 223,
   "metadata": {},
   "outputs": [],
   "source": [
    "def combine_alphas(res, category='PV', method='equalweight', weights_map=None):\n",
    "    alpha_cols = [c for c in res.columns if c not in ['code', 'name', 'fut_ret_1d'] and 'alpha' in c]\n",
    "    res[method] = 0\n",
    "    for col in alpha_cols:\n",
    "        res[method] += res[col] * weights_map[col] / sum(weights_map.values())\n",
    "    dates = [d.strftime(\"%Y%m%d\") for d in res.index.unique()]\n",
    "    dates.sort()\n",
    "    # frist date set to NaN\n",
    "    res.loc[res.index == dates[0], method] = np.nan\n",
    "    combined_alpha = res[['code', 'name', method, 'fut_ret_1d']].copy(deep=True)\n",
    "    combined_alpha.rename(columns={method: 'alpha'}, inplace=True)\n",
    "    save(combined_alpha, dates, f\"combined-{category}-{method}-zz9999\")"
   ]
  },
  {
   "cell_type": "code",
   "execution_count": 154,
   "metadata": {},
   "outputs": [],
   "source": [
    "def combine_images(columns, space, images, name):\n",
    "    rows = len(images) // columns\n",
    "    if len(images) % columns:\n",
    "        rows += 1\n",
    "    width_max = max([Image.open(image).width for image in images])\n",
    "    height_max = max([Image.open(image).height for image in images])\n",
    "    background_width = width_max*columns + (space*columns)-space\n",
    "    background_height = height_max*rows + (space*rows)-space\n",
    "    background = Image.new('RGBA', (background_width, background_height), (255, 255, 255, 255))\n",
    "    x = 0\n",
    "    y = 0\n",
    "    for i, image in enumerate(images):\n",
    "        img = Image.open(image)\n",
    "        x_offset = int((width_max-img.width)/2)\n",
    "        y_offset = int((height_max-img.height)/2)\n",
    "        background.paste(img, (x+x_offset, y+y_offset))\n",
    "        x += width_max + space\n",
    "        if (i+1) % columns == 0:\n",
    "            y += height_max + space\n",
    "            x = 0\n",
    "    background.save(name)"
   ]
  },
  {
   "cell_type": "code",
   "execution_count": 155,
   "metadata": {},
   "outputs": [],
   "source": [
    "def plot_combined(category, method):\n",
    "    alphaName = f'alpha.combined-{category}-{method}-zz9999'\n",
    "    files = []\n",
    "    for folderName in os.listdir(myPath.PLOT_DIR):\n",
    "        if alphaName in folderName:\n",
    "            for subfolder in os.listdir(myPath.PLOT_DIR/folderName):\n",
    "                for file in os.listdir(myPath.PLOT_DIR/folderName/subfolder):\n",
    "                    files.append(myPath.PLOT_DIR/folderName/subfolder/file)\n",
    "    (myPath.PLOT_DIR/alphaName/'summary').mkdir(parents=True, exist_ok=True)\n",
    "    for holdings in [1, 3, 5, 10, 20, 60]:\n",
    "        images = [f for f in files if f'None-Industry-holding{holdings}days' in str(f) and 'png' in str(f)]\n",
    "        combine_images(columns=1, space=20, images=images, name=myPath.PLOT_DIR/alphaName/'summary'/f'summary.{alphaName};None-Industry-holding{holdings}days.png')"
   ]
  },
  {
   "attachments": {},
   "cell_type": "markdown",
   "metadata": {},
   "source": [
    "### Basic PV: Momentum and Reversion"
   ]
  },
  {
   "cell_type": "code",
   "execution_count": 59,
   "metadata": {},
   "outputs": [],
   "source": [
    "args_dict_list = []\n",
    "args_dict_list.append({\n",
    "    'table_name': f'alpha.YaoMoM004-60days-zz9999',\n",
    "    'start_date': '20180101',\n",
    "    'end_date': '20201231',\n",
    "    'transform': 'None',\n",
    "    'neutralize': 'Industry',\n",
    "    'holding': 1\n",
    "})\n",
    "args_dict_list.append({\n",
    "    'table_name': f'alpha.YaoMoM007-5days-zz9999',\n",
    "    'start_date': '20180101',\n",
    "    'end_date': '20201231',\n",
    "    'transform': 'None',\n",
    "    'neutralize': 'Industry',\n",
    "    'holding': 1\n",
    "})\n",
    "args_dict_list.append({\n",
    "    'table_name': f'alpha.YaoReV001-60days-zz9999',\n",
    "    'start_date': '20180101',\n",
    "    'end_date': '20201231',\n",
    "    'transform': 'None',\n",
    "    'neutralize': 'Industry',\n",
    "    'holding': 1\n",
    "})\n",
    "args_dict_list.append({\n",
    "    'table_name': f'alpha.YaoReV005-20days-zz9999',\n",
    "    'start_date': '20180101',\n",
    "    'end_date': '20201231',\n",
    "    'transform': 'None',\n",
    "    'neutralize': 'Industry',\n",
    "    'holding': 1\n",
    "})\n",
    "args_dict_list.append({\n",
    "    'table_name': f'alpha.YaoReV009-10days-a3-zz9999',\n",
    "    'start_date': '20180101',\n",
    "    'end_date': '20201231',\n",
    "    'transform': 'Rank',\n",
    "    'neutralize': 'Industry',\n",
    "    'holding': 1\n",
    "})\n",
    "args_dict_list.append({\n",
    "    'table_name': f'alpha.YaoReV009-3days-a5-zz9999',\n",
    "    'start_date': '20180101',\n",
    "    'end_date': '20201231',\n",
    "    'transform': 'Rank',\n",
    "    'neutralize': 'Industry',\n",
    "    'holding': 1\n",
    "})"
   ]
  },
  {
   "cell_type": "code",
   "execution_count": null,
   "metadata": {},
   "outputs": [],
   "source": [
    "### Equally weighted\n",
    "equalweight = {'alpha.YaoMoM004-60days-zz9999;20180101-20201231-None-Industry-holding1days': 1,\n",
    "             'alpha.YaoMoM007-5days-zz9999;20180101-20201231-None-Industry-holding1days': 1,\n",
    "             'alpha.YaoReV001-60days-zz9999;20180101-20201231-None-Industry-holding1days': 1,\n",
    "             'alpha.YaoReV005-20days-zz9999;20180101-20201231-None-Industry-holding1days': 1,\n",
    "             'alpha.YaoReV009-10days-a3-zz9999;20180101-20201231-Rank-Industry-holding1days': 1,\n",
    "             'alpha.YaoReV009-3days-a5-zz9999;20180101-20201231-Rank-Industry-holding1days': 1}"
   ]
  },
  {
   "cell_type": "code",
   "execution_count": 88,
   "metadata": {},
   "outputs": [],
   "source": [
    "### IR weighted\n",
    "irweights = {'alpha.YaoMoM004-60days-zz9999;20180101-20201231-None-Industry-holding1days': 5.103285,\n",
    "             'alpha.YaoMoM007-5days-zz9999;20180101-20201231-None-Industry-holding1days': 6.552738,\n",
    "             'alpha.YaoReV001-60days-zz9999;20180101-20201231-None-Industry-holding1days': 2.451816,\n",
    "             'alpha.YaoReV005-20days-zz9999;20180101-20201231-None-Industry-holding1days': 2.898292,\n",
    "             'alpha.YaoReV009-10days-a3-zz9999;20180101-20201231-Rank-Industry-holding1days': 3.202771,\n",
    "             'alpha.YaoReV009-3days-a5-zz9999;20180101-20201231-Rank-Industry-holding1days': 3.471707}"
   ]
  },
  {
   "cell_type": "code",
   "execution_count": null,
   "metadata": {},
   "outputs": [],
   "source": [
    "### IC weighted?"
   ]
  },
  {
   "cell_type": "code",
   "execution_count": null,
   "metadata": {},
   "outputs": [],
   "source": [
    "alphas = read_alphas(args_dict_list)"
   ]
  },
  {
   "cell_type": "code",
   "execution_count": null,
   "metadata": {},
   "outputs": [],
   "source": [
    "combine_alphas(alphas, 'PV', 'equalweight', equalweight)"
   ]
  },
  {
   "cell_type": "code",
   "execution_count": null,
   "metadata": {},
   "outputs": [],
   "source": [
    "combine_alphas(alphas, 'PV', 'irweight', irweights)"
   ]
  },
  {
   "cell_type": "code",
   "execution_count": 127,
   "metadata": {},
   "outputs": [],
   "source": []
  },
  {
   "cell_type": "code",
   "execution_count": 156,
   "metadata": {},
   "outputs": [],
   "source": [
    "plot_combined('PV', 'equalweight')"
   ]
  },
  {
   "cell_type": "code",
   "execution_count": 157,
   "metadata": {},
   "outputs": [],
   "source": [
    "plot_combined('PV', 'irweight')"
   ]
  },
  {
   "cell_type": "code",
   "execution_count": null,
   "metadata": {},
   "outputs": [],
   "source": []
  },
  {
   "attachments": {},
   "cell_type": "markdown",
   "metadata": {},
   "source": [
    "### Technical"
   ]
  },
  {
   "cell_type": "code",
   "execution_count": 158,
   "metadata": {},
   "outputs": [],
   "source": [
    "args_dict_list = []\n",
    "args_dict_list.append({\n",
    "    'table_name': f'alpha.YaoTec003-3days-zz9999',\n",
    "    'start_date': '20180101',\n",
    "    'end_date': '20201231',\n",
    "    'transform': 'None',\n",
    "    'neutralize': 'Industry',\n",
    "    'holding': 1\n",
    "})\n",
    "args_dict_list.append({\n",
    "    'table_name': f'alpha.YaoTec006-5days-zz9999',\n",
    "    'start_date': '20180101',\n",
    "    'end_date': '20201231',\n",
    "    'transform': 'None',\n",
    "    'neutralize': 'Industry',\n",
    "    'holding': 1\n",
    "})\n",
    "args_dict_list.append({\n",
    "    'table_name': f'alpha.YaoTec007-3days-zz9999',\n",
    "    'start_date': '20180101',\n",
    "    'end_date': '20201231',\n",
    "    'transform': 'None',\n",
    "    'neutralize': 'Industry',\n",
    "    'holding': 1\n",
    "})\n",
    "args_dict_list.append({\n",
    "    'table_name': f'alpha.YaoTec007-60days-zz9999',\n",
    "    'start_date': '20180101',\n",
    "    'end_date': '20201231',\n",
    "    'transform': 'None',\n",
    "    'neutralize': 'Industry',\n",
    "    'holding': 1\n",
    "})\n",
    "args_dict_list.append({\n",
    "    'table_name': f'alpha.YaoTec008-20days-zz9999',\n",
    "    'start_date': '20180101',\n",
    "    'end_date': '20201231',\n",
    "    'transform': 'None',\n",
    "    'neutralize': 'Industry',\n",
    "    'holding': 1\n",
    "})\n",
    "args_dict_list.append({\n",
    "    'table_name': f'alpha.YaoTec011-10days-10days-zz9999',\n",
    "    'start_date': '20180101',\n",
    "    'end_date': '20201231',\n",
    "    'transform': 'Rank',\n",
    "    'neutralize': 'Industry',\n",
    "    'holding': 1\n",
    "})\n"
   ]
  },
  {
   "cell_type": "code",
   "execution_count": null,
   "metadata": {},
   "outputs": [],
   "source": [
    "alphas_tec = read_alphas(args_dict_list)"
   ]
  },
  {
   "cell_type": "code",
   "execution_count": 172,
   "metadata": {},
   "outputs": [],
   "source": [
    "### Equally weighted\n",
    "equalweight = {'alpha.YaoTec003-3days-zz9999;20180101-20201231-None-Industry-holding1days': 1,\n",
    "               'alpha.YaoTec006-5days-zz9999;20180101-20201231-None-Industry-holding1days': 1,\n",
    "               'alpha.YaoTec007-3days-zz9999;20180101-20201231-None-Industry-holding1days': 1,\n",
    "               'alpha.YaoTec007-60days-zz9999;20180101-20201231-None-Industry-holding1days': 1,\n",
    "               'alpha.YaoTec008-20days-zz9999;20180101-20201231-None-Industry-holding1days': 1,\n",
    "               'alpha.YaoTec011-10days-10days-zz9999;20180101-20201231-Rank-Industry-holding1days': 1}\n"
   ]
  },
  {
   "cell_type": "code",
   "execution_count": 173,
   "metadata": {},
   "outputs": [],
   "source": [
    "### IR weighted\n",
    "irweights = {'alpha.YaoTec003-3days-zz9999;20180101-20201231-None-Industry-holding1days': 4.506186,\n",
    "             'alpha.YaoTec006-5days-zz9999;20180101-20201231-None-Industry-holding1days': 2.274438,\n",
    "             'alpha.YaoTec007-3days-zz9999;20180101-20201231-None-Industry-holding1days':  2.885066,\n",
    "             'alpha.YaoTec007-60days-zz9999;20180101-20201231-None-Industry-holding1days': 3.349317,\n",
    "             'alpha.YaoTec008-20days-zz9999;20180101-20201231-None-Industry-holding1days': 2.521566,\n",
    "             'alpha.YaoTec011-10days-10days-zz9999;20180101-20201231-Rank-Industry-holding1days': 3.027162}\n"
   ]
  },
  {
   "cell_type": "code",
   "execution_count": 175,
   "metadata": {},
   "outputs": [
    {
     "name": "stderr",
     "output_type": "stream",
     "text": [
      "2023-06-21 22:20:14,706:DEBUG:__main__:Start writing to files for alpha combined-Tec-equalweight-zz9999...\n",
      "2023-06-21 22:20:14,706:DEBUG:__main__:Start writing to files for alpha combined-Tec-equalweight-zz9999...\n",
      "2023-06-21 22:20:44,531:DEBUG:__main__:Writing to files...Done!\n",
      "2023-06-21 22:20:44,531:DEBUG:__main__:Writing to files...Done!\n"
     ]
    }
   ],
   "source": [
    "combine_alphas(alphas_tec, 'Tec', 'equalweight', equalweight)"
   ]
  },
  {
   "cell_type": "code",
   "execution_count": 176,
   "metadata": {},
   "outputs": [
    {
     "name": "stderr",
     "output_type": "stream",
     "text": [
      "2023-06-21 22:22:18,886:DEBUG:__main__:Start writing to files for alpha combined-Tec-irweight-zz9999...\n",
      "2023-06-21 22:22:18,886:DEBUG:__main__:Start writing to files for alpha combined-Tec-irweight-zz9999...\n",
      "2023-06-21 22:22:52,338:DEBUG:__main__:Writing to files...Done!\n",
      "2023-06-21 22:22:52,338:DEBUG:__main__:Writing to files...Done!\n"
     ]
    }
   ],
   "source": [
    "combine_alphas(alphas_tec, 'Tec', 'irweight', irweights)"
   ]
  },
  {
   "cell_type": "code",
   "execution_count": null,
   "metadata": {},
   "outputs": [],
   "source": []
  },
  {
   "cell_type": "code",
   "execution_count": 177,
   "metadata": {},
   "outputs": [],
   "source": [
    "plot_combined('Tec', 'equalweight')"
   ]
  },
  {
   "cell_type": "code",
   "execution_count": 178,
   "metadata": {},
   "outputs": [],
   "source": [
    "plot_combined('Tec', 'irweight')"
   ]
  },
  {
   "cell_type": "code",
   "execution_count": null,
   "metadata": {},
   "outputs": [],
   "source": []
  },
  {
   "attachments": {},
   "cell_type": "markdown",
   "metadata": {},
   "source": [
    "### Volatility"
   ]
  },
  {
   "cell_type": "code",
   "execution_count": 179,
   "metadata": {},
   "outputs": [],
   "source": [
    "args_dict_list = []\n",
    "args_dict_list.append({\n",
    "    'table_name': f'alpha.YaoVol002-20days-zz9999',\n",
    "    'start_date': '20180101',\n",
    "    'end_date': '20201231',\n",
    "    'transform': 'None',\n",
    "    'neutralize': 'Industry',\n",
    "    'holding': 1\n",
    "})\n",
    "args_dict_list.append({\n",
    "    'table_name': f'alpha.YaoVol005-10days-zz9999',\n",
    "    'start_date': '20180101',\n",
    "    'end_date': '20201231',\n",
    "    'transform': 'None',\n",
    "    'neutralize': 'Industry',\n",
    "    'holding': 1\n",
    "})\n",
    "args_dict_list.append({\n",
    "    'table_name': f'alpha.YaoVol006-60days-zz9999',\n",
    "    'start_date': '20180101',\n",
    "    'end_date': '20201231',\n",
    "    'transform': 'None',\n",
    "    'neutralize': 'Industry',\n",
    "    'holding': 1\n",
    "})\n",
    "args_dict_list.append({\n",
    "    'table_name': f'alpha.YaoVol007-20days-zz9999',\n",
    "    'start_date': '20180101',\n",
    "    'end_date': '20201231',\n",
    "    'transform': 'Rank',\n",
    "    'neutralize': 'Industry',\n",
    "    'holding': 1\n",
    "})\n",
    "args_dict_list.append({\n",
    "    'table_name': f'alpha.YaoVol011-20days-60days-zz9999',\n",
    "    'start_date': '20180101',\n",
    "    'end_date': '20201231',\n",
    "    'transform': 'Rank',\n",
    "    'neutralize': 'Industry',\n",
    "    'holding': 1\n",
    "})\n"
   ]
  },
  {
   "cell_type": "code",
   "execution_count": null,
   "metadata": {},
   "outputs": [],
   "source": [
    "alphas_vol = read_alphas(args_dict_list)"
   ]
  },
  {
   "cell_type": "code",
   "execution_count": 182,
   "metadata": {},
   "outputs": [],
   "source": [
    "### Equally weighted\n",
    "equalweight = {'alpha.YaoVol002-20days-zz9999;20180101-20201231-None-Industry-holding1days': 1,\n",
    "               'alpha.YaoVol005-10days-zz9999;20180101-20201231-None-Industry-holding1days': 1,\n",
    "               'alpha.YaoVol006-60days-zz9999;20180101-20201231-None-Industry-holding1days': 1,\n",
    "               'alpha.YaoVol007-20days-zz9999;20180101-20201231-Rank-Industry-holding1days': 1,\n",
    "               'alpha.YaoVol011-20days-60days-zz9999;20180101-20201231-Rank-Industry-holding1days': 1}\n"
   ]
  },
  {
   "cell_type": "code",
   "execution_count": 183,
   "metadata": {},
   "outputs": [],
   "source": [
    "irweights = {'alpha.YaoVol002-20days-zz9999;20180101-20201231-None-Industry-holding1days': 2.956636,\n",
    "             'alpha.YaoVol005-10days-zz9999;20180101-20201231-None-Industry-holding1days':  2.803632,\n",
    "             'alpha.YaoVol006-60days-zz9999;20180101-20201231-None-Industry-holding1days':   3.184895,\n",
    "             'alpha.YaoVol007-20days-zz9999;20180101-20201231-Rank-Industry-holding1days': 2.810485,\n",
    "             'alpha.YaoVol011-20days-60days-zz9999;20180101-20201231-Rank-Industry-holding1days': 2.243600}"
   ]
  },
  {
   "cell_type": "code",
   "execution_count": 184,
   "metadata": {},
   "outputs": [
    {
     "name": "stderr",
     "output_type": "stream",
     "text": [
      "2023-06-21 22:57:16,619:DEBUG:__main__:Start writing to files for alpha combined-Vol-equalweight-zz9999...\n",
      "2023-06-21 22:57:16,619:DEBUG:__main__:Start writing to files for alpha combined-Vol-equalweight-zz9999...\n",
      "2023-06-21 22:57:43,696:DEBUG:__main__:Writing to files...Done!\n",
      "2023-06-21 22:57:43,696:DEBUG:__main__:Writing to files...Done!\n"
     ]
    }
   ],
   "source": [
    "combine_alphas(alphas_vol, 'Vol', 'equalweight', equalweight)"
   ]
  },
  {
   "cell_type": "code",
   "execution_count": 185,
   "metadata": {},
   "outputs": [
    {
     "name": "stderr",
     "output_type": "stream",
     "text": [
      "2023-06-21 22:58:19,985:DEBUG:__main__:Start writing to files for alpha combined-Vol-irweight-zz9999...\n",
      "2023-06-21 22:58:19,985:DEBUG:__main__:Start writing to files for alpha combined-Vol-irweight-zz9999...\n",
      "2023-06-21 22:58:46,776:DEBUG:__main__:Writing to files...Done!\n",
      "2023-06-21 22:58:46,776:DEBUG:__main__:Writing to files...Done!\n"
     ]
    }
   ],
   "source": [
    "combine_alphas(alphas_vol, 'Vol', 'irweight', irweights)"
   ]
  },
  {
   "cell_type": "code",
   "execution_count": null,
   "metadata": {},
   "outputs": [],
   "source": []
  },
  {
   "cell_type": "code",
   "execution_count": 186,
   "metadata": {},
   "outputs": [],
   "source": [
    "plot_combined('Vol', 'equalweight')"
   ]
  },
  {
   "cell_type": "code",
   "execution_count": 187,
   "metadata": {},
   "outputs": [],
   "source": [
    "plot_combined('Vol', 'irweight')"
   ]
  },
  {
   "cell_type": "code",
   "execution_count": null,
   "metadata": {},
   "outputs": [],
   "source": []
  },
  {
   "attachments": {},
   "cell_type": "markdown",
   "metadata": {},
   "source": [
    "### Liquidity"
   ]
  },
  {
   "cell_type": "code",
   "execution_count": 195,
   "metadata": {},
   "outputs": [],
   "source": [
    "args_dict_list = []\n",
    "args_dict_list.append({\n",
    "    'table_name': f'alpha.YaoLqd001-10days-zz9999',\n",
    "    'start_date': '20180101',\n",
    "    'end_date': '20201231',\n",
    "    'transform': 'Rank',\n",
    "    'neutralize': 'Industry',\n",
    "    'holding': 1\n",
    "})\n",
    "args_dict_list.append({\n",
    "    'table_name': f'alpha.YaoLqd006-20days-a05-zz9999',\n",
    "    'start_date': '20180101',\n",
    "    'end_date': '20201231',\n",
    "    'transform': 'None',\n",
    "    'neutralize': 'Industry',\n",
    "    'holding': 1\n",
    "})\n",
    "args_dict_list.append({\n",
    "    'table_name': f'alpha.YaoLqd009-3days-zz9999',\n",
    "    'start_date': '20180101',\n",
    "    'end_date': '20201231',\n",
    "    'transform': 'None',\n",
    "    'neutralize': 'Industry',\n",
    "    'holding': 1\n",
    "})\n",
    "args_dict_list.append({\n",
    "    'table_name': f'alpha.YaoLqd015-3days-zz9999',\n",
    "    'start_date': '20180101',\n",
    "    'end_date': '20201231',\n",
    "    'transform': 'None',\n",
    "    'neutralize': 'Industry',\n",
    "    'holding': 1\n",
    "})"
   ]
  },
  {
   "cell_type": "code",
   "execution_count": null,
   "metadata": {},
   "outputs": [],
   "source": [
    "alphas_lqd = read_alphas(args_dict_list)"
   ]
  },
  {
   "cell_type": "code",
   "execution_count": 197,
   "metadata": {},
   "outputs": [],
   "source": [
    "### Equally weighted\n",
    "equalweight = {'alpha.YaoLqd001-10days-zz9999;20180101-20201231-Rank-Industry-holding1days': 1,\n",
    "               'alpha.YaoLqd006-20days-a05-zz9999;20180101-20201231-None-Industry-holding1days': 1,\n",
    "               'alpha.YaoLqd009-3days-zz9999;20180101-20201231-None-Industry-holding1days': 1,\n",
    "               'alpha.YaoLqd015-3days-zz9999;20180101-20201231-None-Industry-holding1days': 1}"
   ]
  },
  {
   "cell_type": "code",
   "execution_count": 198,
   "metadata": {},
   "outputs": [],
   "source": [
    "### IR weighted\n",
    "irweights = {'alpha.YaoLqd001-10days-zz9999;20180101-20201231-Rank-Industry-holding1days': 4.674443,\n",
    "             'alpha.YaoLqd006-20days-a05-zz9999;20180101-20201231-None-Industry-holding1days': 2.283723,\n",
    "             'alpha.YaoLqd009-3days-zz9999;20180101-20201231-None-Industry-holding1days': 5.505706,\n",
    "               'alpha.YaoLqd015-3days-zz9999;20180101-20201231-None-Industry-holding1days': 4.291100}"
   ]
  },
  {
   "cell_type": "code",
   "execution_count": 199,
   "metadata": {},
   "outputs": [
    {
     "name": "stderr",
     "output_type": "stream",
     "text": [
      "2023-06-21 23:34:35,791:DEBUG:__main__:Start writing to files for alpha combined-Lqd-equalweight-zz9999...\n",
      "2023-06-21 23:34:35,791:DEBUG:__main__:Start writing to files for alpha combined-Lqd-equalweight-zz9999...\n",
      "2023-06-21 23:35:09,561:DEBUG:__main__:Writing to files...Done!\n",
      "2023-06-21 23:35:09,561:DEBUG:__main__:Writing to files...Done!\n"
     ]
    }
   ],
   "source": [
    "combine_alphas(alphas_lqd, 'Lqd', 'equalweight', equalweight)"
   ]
  },
  {
   "cell_type": "code",
   "execution_count": 200,
   "metadata": {},
   "outputs": [
    {
     "name": "stderr",
     "output_type": "stream",
     "text": [
      "2023-06-21 23:35:14,505:DEBUG:__main__:Start writing to files for alpha combined-Lqd-irweight-zz9999...\n",
      "2023-06-21 23:35:14,505:DEBUG:__main__:Start writing to files for alpha combined-Lqd-irweight-zz9999...\n",
      "2023-06-21 23:35:48,213:DEBUG:__main__:Writing to files...Done!\n",
      "2023-06-21 23:35:48,213:DEBUG:__main__:Writing to files...Done!\n"
     ]
    }
   ],
   "source": [
    "combine_alphas(alphas_lqd, 'Lqd', 'irweight', irweights)"
   ]
  },
  {
   "cell_type": "code",
   "execution_count": null,
   "metadata": {},
   "outputs": [],
   "source": []
  },
  {
   "cell_type": "code",
   "execution_count": 201,
   "metadata": {},
   "outputs": [],
   "source": [
    "plot_combined('Lqd', 'equalweight')"
   ]
  },
  {
   "cell_type": "code",
   "execution_count": 202,
   "metadata": {},
   "outputs": [],
   "source": [
    "plot_combined('Lqd', 'irweight')"
   ]
  },
  {
   "cell_type": "code",
   "execution_count": null,
   "metadata": {},
   "outputs": [],
   "source": []
  },
  {
   "attachments": {},
   "cell_type": "markdown",
   "metadata": {},
   "source": [
    "### Money Flow"
   ]
  },
  {
   "cell_type": "code",
   "execution_count": 203,
   "metadata": {},
   "outputs": [],
   "source": [
    "args_dict_list = []\n",
    "args_dict_list.append({\n",
    "    'table_name': f'alpha.YaoMfl002-20days-zz9999',\n",
    "    'start_date': '20180101',\n",
    "    'end_date': '20201231',\n",
    "    'transform': 'None',\n",
    "    'neutralize': 'Industry',\n",
    "    'holding': 1\n",
    "})\n",
    "args_dict_list.append({\n",
    "    'table_name': f'alpha.YaoMfl003-5days-zz9999',\n",
    "    'start_date': '20180101',\n",
    "    'end_date': '20201231',\n",
    "    'transform': 'None',\n",
    "    'neutralize': 'Industry',\n",
    "    'holding': 1\n",
    "})\n",
    "args_dict_list.append({\n",
    "    'table_name': f'alpha.YaoMfl005-60days-zz9999',\n",
    "    'start_date': '20180101',\n",
    "    'end_date': '20201231',\n",
    "    'transform': 'None',\n",
    "    'neutralize': 'Industry',\n",
    "    'holding': 1\n",
    "})\n",
    "args_dict_list.append({\n",
    "    'table_name': f'alpha.YaoMfl008-3days-zz9999',\n",
    "    'start_date': '20180101',\n",
    "    'end_date': '20201231',\n",
    "    'transform': 'None',\n",
    "    'neutralize': 'Industry',\n",
    "    'holding': 1\n",
    "})\n",
    "args_dict_list.append({\n",
    "    'table_name': f'alpha.YaoMfl016-60days-zz9999',\n",
    "    'start_date': '20180101',\n",
    "    'end_date': '20201231',\n",
    "    'transform': 'None',\n",
    "    'neutralize': 'Industry',\n",
    "    'holding': 1\n",
    "})"
   ]
  },
  {
   "cell_type": "code",
   "execution_count": null,
   "metadata": {},
   "outputs": [],
   "source": [
    "alphas_mfl = read_alphas(args_dict_list)"
   ]
  },
  {
   "cell_type": "code",
   "execution_count": 205,
   "metadata": {},
   "outputs": [],
   "source": [
    "### Equally weighted\n",
    "equalweight = {'alpha.YaoMfl002-20days-zz9999;20180101-20201231-None-Industry-holding1days': 1,\n",
    "               'alpha.YaoMfl003-5days-zz9999;20180101-20201231-None-Industry-holding1days': 1,\n",
    "               'alpha.YaoMfl005-60days-zz9999;20180101-20201231-None-Industry-holding1days': 1,\n",
    "               'alpha.YaoMfl008-3days-zz9999;20180101-20201231-None-Industry-holding1days': 1,\n",
    "               'alpha.YaoMfl016-60days-zz9999;20180101-20201231-None-Industry-holding1days': 1}"
   ]
  },
  {
   "cell_type": "code",
   "execution_count": 206,
   "metadata": {},
   "outputs": [],
   "source": [
    "### IR weighted\n",
    "irweights = {'alpha.YaoMfl002-20days-zz9999;20180101-20201231-None-Industry-holding1days': 2.612018,\n",
    "             'alpha.YaoMfl003-5days-zz9999;20180101-20201231-None-Industry-holding1days': 2.007744,\n",
    "             'alpha.YaoMfl005-60days-zz9999;20180101-20201231-None-Industry-holding1days': 3.713988,\n",
    "             'alpha.YaoMfl008-3days-zz9999;20180101-20201231-None-Industry-holding1days': 5.589981,\n",
    "               'alpha.YaoMfl016-60days-zz9999;20180101-20201231-None-Industry-holding1days': 3.238267}"
   ]
  },
  {
   "cell_type": "code",
   "execution_count": 207,
   "metadata": {},
   "outputs": [
    {
     "name": "stderr",
     "output_type": "stream",
     "text": [
      "2023-06-22 00:04:44,722:DEBUG:__main__:Start writing to files for alpha combined-Mfl-equalweight-zz9999...\n",
      "2023-06-22 00:04:44,722:DEBUG:__main__:Start writing to files for alpha combined-Mfl-equalweight-zz9999...\n",
      "2023-06-22 00:05:13,629:DEBUG:__main__:Writing to files...Done!\n",
      "2023-06-22 00:05:13,629:DEBUG:__main__:Writing to files...Done!\n"
     ]
    }
   ],
   "source": [
    "combine_alphas(alphas_mfl, 'Mfl', 'equalweight', equalweight)"
   ]
  },
  {
   "cell_type": "code",
   "execution_count": 208,
   "metadata": {},
   "outputs": [
    {
     "name": "stderr",
     "output_type": "stream",
     "text": [
      "2023-06-22 00:06:22,411:DEBUG:__main__:Start writing to files for alpha combined-Mfl-irweight-zz9999...\n",
      "2023-06-22 00:06:22,411:DEBUG:__main__:Start writing to files for alpha combined-Mfl-irweight-zz9999...\n",
      "2023-06-22 00:06:52,055:DEBUG:__main__:Writing to files...Done!\n",
      "2023-06-22 00:06:52,055:DEBUG:__main__:Writing to files...Done!\n"
     ]
    }
   ],
   "source": [
    "combine_alphas(alphas_mfl, 'Mfl', 'irweight', irweights)"
   ]
  },
  {
   "cell_type": "code",
   "execution_count": null,
   "metadata": {},
   "outputs": [],
   "source": []
  },
  {
   "cell_type": "code",
   "execution_count": 209,
   "metadata": {},
   "outputs": [],
   "source": [
    "plot_combined('Mfl', 'equalweight')\n"
   ]
  },
  {
   "cell_type": "code",
   "execution_count": 210,
   "metadata": {},
   "outputs": [],
   "source": [
    "plot_combined('Mfl', 'irweight')"
   ]
  },
  {
   "cell_type": "code",
   "execution_count": null,
   "metadata": {},
   "outputs": [],
   "source": []
  },
  {
   "attachments": {},
   "cell_type": "markdown",
   "metadata": {},
   "source": [
    "### Level 2"
   ]
  },
  {
   "cell_type": "code",
   "execution_count": 211,
   "metadata": {},
   "outputs": [],
   "source": [
    "args_dict_list = []\n",
    "for cat in ['Lqd', 'Tec', 'Vol', 'PV', 'Mfl']:\n",
    "    args_dict_list.append({\n",
    "        'table_name': f'alpha.combined-{cat}-equalweight-zz9999',\n",
    "        'start_date': '20180101',\n",
    "        'end_date': '20201231',\n",
    "        'transform': 'None',\n",
    "        'neutralize': 'Industry',\n",
    "        'holding': 1\n",
    "    })\n",
    "    args_dict_list.append({\n",
    "        'table_name': f'alpha.combined-{cat}-irweight-zz9999',\n",
    "        'start_date': '20180101',\n",
    "        'end_date': '20201231',\n",
    "        'transform': 'None',\n",
    "        'neutralize': 'Industry',\n",
    "        'holding': 1\n",
    "    })"
   ]
  },
  {
   "cell_type": "code",
   "execution_count": null,
   "metadata": {},
   "outputs": [],
   "source": [
    "alphas_lvl2 = read_alphas(args_dict_list)"
   ]
  },
  {
   "cell_type": "code",
   "execution_count": 213,
   "metadata": {},
   "outputs": [
    {
     "data": {
      "text/html": [
       "<div>\n",
       "<style scoped>\n",
       "    .dataframe tbody tr th:only-of-type {\n",
       "        vertical-align: middle;\n",
       "    }\n",
       "\n",
       "    .dataframe tbody tr th {\n",
       "        vertical-align: top;\n",
       "    }\n",
       "\n",
       "    .dataframe thead th {\n",
       "        text-align: right;\n",
       "    }\n",
       "</style>\n",
       "<table border=\"1\" class=\"dataframe\">\n",
       "  <thead>\n",
       "    <tr style=\"text-align: right;\">\n",
       "      <th></th>\n",
       "      <th>code</th>\n",
       "      <th>name</th>\n",
       "      <th>alpha.combined-Lqd-equalweight-zz9999;20180101-20201231-None-Industry-holding1days</th>\n",
       "      <th>fut_ret_1d</th>\n",
       "      <th>alpha.combined-Lqd-irweight-zz9999;20180101-20201231-None-Industry-holding1days</th>\n",
       "      <th>alpha.combined-Tec-equalweight-zz9999;20180101-20201231-None-Industry-holding1days</th>\n",
       "      <th>alpha.combined-Tec-irweight-zz9999;20180101-20201231-None-Industry-holding1days</th>\n",
       "      <th>alpha.combined-Vol-equalweight-zz9999;20180101-20201231-None-Industry-holding1days</th>\n",
       "      <th>alpha.combined-Vol-irweight-zz9999;20180101-20201231-None-Industry-holding1days</th>\n",
       "      <th>alpha.combined-PV-equalweight-zz9999;20180101-20201231-None-Industry-holding1days</th>\n",
       "      <th>alpha.combined-PV-irweight-zz9999;20180101-20201231-None-Industry-holding1days</th>\n",
       "      <th>alpha.combined-Mfl-equalweight-zz9999;20180101-20201231-None-Industry-holding1days</th>\n",
       "      <th>alpha.combined-Mfl-irweight-zz9999;20180101-20201231-None-Industry-holding1days</th>\n",
       "    </tr>\n",
       "    <tr>\n",
       "      <th>time</th>\n",
       "      <th></th>\n",
       "      <th></th>\n",
       "      <th></th>\n",
       "      <th></th>\n",
       "      <th></th>\n",
       "      <th></th>\n",
       "      <th></th>\n",
       "      <th></th>\n",
       "      <th></th>\n",
       "      <th></th>\n",
       "      <th></th>\n",
       "      <th></th>\n",
       "      <th></th>\n",
       "    </tr>\n",
       "  </thead>\n",
       "  <tbody>\n",
       "    <tr>\n",
       "      <th>2018-09-21</th>\n",
       "      <td>1</td>\n",
       "      <td>平安银行</td>\n",
       "      <td>-0.001590</td>\n",
       "      <td>-0.011310</td>\n",
       "      <td>-0.001411</td>\n",
       "      <td>-0.000130</td>\n",
       "      <td>-0.000130</td>\n",
       "      <td>0.000000e+00</td>\n",
       "      <td>0.000000e+00</td>\n",
       "      <td>-0.000219</td>\n",
       "      <td>0.000051</td>\n",
       "      <td>-0.001258</td>\n",
       "      <td>-0.001293</td>\n",
       "    </tr>\n",
       "    <tr>\n",
       "      <th>2018-09-21</th>\n",
       "      <td>2</td>\n",
       "      <td>万科A</td>\n",
       "      <td>-0.004653</td>\n",
       "      <td>-0.046003</td>\n",
       "      <td>-0.004694</td>\n",
       "      <td>0.000099</td>\n",
       "      <td>0.000100</td>\n",
       "      <td>0.000000e+00</td>\n",
       "      <td>0.000000e+00</td>\n",
       "      <td>0.000595</td>\n",
       "      <td>0.000694</td>\n",
       "      <td>-0.002434</td>\n",
       "      <td>-0.002428</td>\n",
       "    </tr>\n",
       "    <tr>\n",
       "      <th>2018-09-21</th>\n",
       "      <td>4</td>\n",
       "      <td>国华网安</td>\n",
       "      <td>-0.001354</td>\n",
       "      <td>-0.006851</td>\n",
       "      <td>-0.001317</td>\n",
       "      <td>-0.000605</td>\n",
       "      <td>-0.000546</td>\n",
       "      <td>0.000000e+00</td>\n",
       "      <td>0.000000e+00</td>\n",
       "      <td>-0.000261</td>\n",
       "      <td>-0.000187</td>\n",
       "      <td>-0.000163</td>\n",
       "      <td>-0.000247</td>\n",
       "    </tr>\n",
       "    <tr>\n",
       "      <th>2018-09-21</th>\n",
       "      <td>5</td>\n",
       "      <td>ST星源</td>\n",
       "      <td>-0.000916</td>\n",
       "      <td>-0.023065</td>\n",
       "      <td>-0.000920</td>\n",
       "      <td>0.000204</td>\n",
       "      <td>0.000292</td>\n",
       "      <td>0.000000e+00</td>\n",
       "      <td>0.000000e+00</td>\n",
       "      <td>-0.000836</td>\n",
       "      <td>-0.000665</td>\n",
       "      <td>-0.000326</td>\n",
       "      <td>-0.000374</td>\n",
       "    </tr>\n",
       "    <tr>\n",
       "      <th>2018-09-21</th>\n",
       "      <td>6</td>\n",
       "      <td>深振业A</td>\n",
       "      <td>-0.001083</td>\n",
       "      <td>-0.054997</td>\n",
       "      <td>-0.001252</td>\n",
       "      <td>-0.002230</td>\n",
       "      <td>-0.002127</td>\n",
       "      <td>0.000000e+00</td>\n",
       "      <td>0.000000e+00</td>\n",
       "      <td>-0.000132</td>\n",
       "      <td>0.000284</td>\n",
       "      <td>-0.000828</td>\n",
       "      <td>-0.001017</td>\n",
       "    </tr>\n",
       "    <tr>\n",
       "      <th>...</th>\n",
       "      <td>...</td>\n",
       "      <td>...</td>\n",
       "      <td>...</td>\n",
       "      <td>...</td>\n",
       "      <td>...</td>\n",
       "      <td>...</td>\n",
       "      <td>...</td>\n",
       "      <td>...</td>\n",
       "      <td>...</td>\n",
       "      <td>...</td>\n",
       "      <td>...</td>\n",
       "      <td>...</td>\n",
       "      <td>...</td>\n",
       "    </tr>\n",
       "    <tr>\n",
       "      <th>2020-12-31</th>\n",
       "      <td>688333</td>\n",
       "      <td>铂力特</td>\n",
       "      <td>-0.000035</td>\n",
       "      <td>NaN</td>\n",
       "      <td>-0.000001</td>\n",
       "      <td>-0.000345</td>\n",
       "      <td>-0.000514</td>\n",
       "      <td>8.113234e-18</td>\n",
       "      <td>9.217583e-18</td>\n",
       "      <td>0.000657</td>\n",
       "      <td>0.000914</td>\n",
       "      <td>-0.000413</td>\n",
       "      <td>-0.000595</td>\n",
       "    </tr>\n",
       "    <tr>\n",
       "      <th>2020-12-31</th>\n",
       "      <td>688366</td>\n",
       "      <td>昊海生科</td>\n",
       "      <td>-0.000416</td>\n",
       "      <td>NaN</td>\n",
       "      <td>-0.000465</td>\n",
       "      <td>-0.000247</td>\n",
       "      <td>-0.000183</td>\n",
       "      <td>1.149014e-17</td>\n",
       "      <td>7.086636e-18</td>\n",
       "      <td>0.000042</td>\n",
       "      <td>0.000002</td>\n",
       "      <td>-0.000016</td>\n",
       "      <td>-0.000271</td>\n",
       "    </tr>\n",
       "    <tr>\n",
       "      <th>2020-12-31</th>\n",
       "      <td>688368</td>\n",
       "      <td>晶丰明源</td>\n",
       "      <td>0.000093</td>\n",
       "      <td>NaN</td>\n",
       "      <td>0.000057</td>\n",
       "      <td>-0.000080</td>\n",
       "      <td>-0.000275</td>\n",
       "      <td>1.167119e-17</td>\n",
       "      <td>4.337204e-18</td>\n",
       "      <td>-0.000403</td>\n",
       "      <td>-0.000436</td>\n",
       "      <td>-0.000031</td>\n",
       "      <td>-0.000354</td>\n",
       "    </tr>\n",
       "    <tr>\n",
       "      <th>2020-12-31</th>\n",
       "      <td>688369</td>\n",
       "      <td>致远互联</td>\n",
       "      <td>-0.000316</td>\n",
       "      <td>NaN</td>\n",
       "      <td>-0.000381</td>\n",
       "      <td>-0.000464</td>\n",
       "      <td>-0.000369</td>\n",
       "      <td>1.409207e-17</td>\n",
       "      <td>9.930791e-18</td>\n",
       "      <td>0.000499</td>\n",
       "      <td>0.000769</td>\n",
       "      <td>-0.000432</td>\n",
       "      <td>-0.000524</td>\n",
       "    </tr>\n",
       "    <tr>\n",
       "      <th>2020-12-31</th>\n",
       "      <td>688388</td>\n",
       "      <td>嘉元科技</td>\n",
       "      <td>-0.000187</td>\n",
       "      <td>NaN</td>\n",
       "      <td>-0.000218</td>\n",
       "      <td>-0.001153</td>\n",
       "      <td>-0.001403</td>\n",
       "      <td>6.961728e-18</td>\n",
       "      <td>-2.068348e-18</td>\n",
       "      <td>0.000784</td>\n",
       "      <td>0.000857</td>\n",
       "      <td>-0.000453</td>\n",
       "      <td>-0.000101</td>\n",
       "    </tr>\n",
       "  </tbody>\n",
       "</table>\n",
       "<p>1883056 rows × 13 columns</p>\n",
       "</div>"
      ],
      "text/plain": [
       "              code  name  \\\n",
       "time                       \n",
       "2018-09-21       1  平安银行   \n",
       "2018-09-21       2   万科A   \n",
       "2018-09-21       4  国华网安   \n",
       "2018-09-21       5  ST星源   \n",
       "2018-09-21       6  深振业A   \n",
       "...            ...   ...   \n",
       "2020-12-31  688333   铂力特   \n",
       "2020-12-31  688366  昊海生科   \n",
       "2020-12-31  688368  晶丰明源   \n",
       "2020-12-31  688369  致远互联   \n",
       "2020-12-31  688388  嘉元科技   \n",
       "\n",
       "            alpha.combined-Lqd-equalweight-zz9999;20180101-20201231-None-Industry-holding1days  \\\n",
       "time                                                                                             \n",
       "2018-09-21                                          -0.001590                                    \n",
       "2018-09-21                                          -0.004653                                    \n",
       "2018-09-21                                          -0.001354                                    \n",
       "2018-09-21                                          -0.000916                                    \n",
       "2018-09-21                                          -0.001083                                    \n",
       "...                                                       ...                                    \n",
       "2020-12-31                                          -0.000035                                    \n",
       "2020-12-31                                          -0.000416                                    \n",
       "2020-12-31                                           0.000093                                    \n",
       "2020-12-31                                          -0.000316                                    \n",
       "2020-12-31                                          -0.000187                                    \n",
       "\n",
       "            fut_ret_1d  \\\n",
       "time                     \n",
       "2018-09-21   -0.011310   \n",
       "2018-09-21   -0.046003   \n",
       "2018-09-21   -0.006851   \n",
       "2018-09-21   -0.023065   \n",
       "2018-09-21   -0.054997   \n",
       "...                ...   \n",
       "2020-12-31         NaN   \n",
       "2020-12-31         NaN   \n",
       "2020-12-31         NaN   \n",
       "2020-12-31         NaN   \n",
       "2020-12-31         NaN   \n",
       "\n",
       "            alpha.combined-Lqd-irweight-zz9999;20180101-20201231-None-Industry-holding1days  \\\n",
       "time                                                                                          \n",
       "2018-09-21                                          -0.001411                                 \n",
       "2018-09-21                                          -0.004694                                 \n",
       "2018-09-21                                          -0.001317                                 \n",
       "2018-09-21                                          -0.000920                                 \n",
       "2018-09-21                                          -0.001252                                 \n",
       "...                                                       ...                                 \n",
       "2020-12-31                                          -0.000001                                 \n",
       "2020-12-31                                          -0.000465                                 \n",
       "2020-12-31                                           0.000057                                 \n",
       "2020-12-31                                          -0.000381                                 \n",
       "2020-12-31                                          -0.000218                                 \n",
       "\n",
       "            alpha.combined-Tec-equalweight-zz9999;20180101-20201231-None-Industry-holding1days  \\\n",
       "time                                                                                             \n",
       "2018-09-21                                          -0.000130                                    \n",
       "2018-09-21                                           0.000099                                    \n",
       "2018-09-21                                          -0.000605                                    \n",
       "2018-09-21                                           0.000204                                    \n",
       "2018-09-21                                          -0.002230                                    \n",
       "...                                                       ...                                    \n",
       "2020-12-31                                          -0.000345                                    \n",
       "2020-12-31                                          -0.000247                                    \n",
       "2020-12-31                                          -0.000080                                    \n",
       "2020-12-31                                          -0.000464                                    \n",
       "2020-12-31                                          -0.001153                                    \n",
       "\n",
       "            alpha.combined-Tec-irweight-zz9999;20180101-20201231-None-Industry-holding1days  \\\n",
       "time                                                                                          \n",
       "2018-09-21                                          -0.000130                                 \n",
       "2018-09-21                                           0.000100                                 \n",
       "2018-09-21                                          -0.000546                                 \n",
       "2018-09-21                                           0.000292                                 \n",
       "2018-09-21                                          -0.002127                                 \n",
       "...                                                       ...                                 \n",
       "2020-12-31                                          -0.000514                                 \n",
       "2020-12-31                                          -0.000183                                 \n",
       "2020-12-31                                          -0.000275                                 \n",
       "2020-12-31                                          -0.000369                                 \n",
       "2020-12-31                                          -0.001403                                 \n",
       "\n",
       "            alpha.combined-Vol-equalweight-zz9999;20180101-20201231-None-Industry-holding1days  \\\n",
       "time                                                                                             \n",
       "2018-09-21                                       0.000000e+00                                    \n",
       "2018-09-21                                       0.000000e+00                                    \n",
       "2018-09-21                                       0.000000e+00                                    \n",
       "2018-09-21                                       0.000000e+00                                    \n",
       "2018-09-21                                       0.000000e+00                                    \n",
       "...                                                       ...                                    \n",
       "2020-12-31                                       8.113234e-18                                    \n",
       "2020-12-31                                       1.149014e-17                                    \n",
       "2020-12-31                                       1.167119e-17                                    \n",
       "2020-12-31                                       1.409207e-17                                    \n",
       "2020-12-31                                       6.961728e-18                                    \n",
       "\n",
       "            alpha.combined-Vol-irweight-zz9999;20180101-20201231-None-Industry-holding1days  \\\n",
       "time                                                                                          \n",
       "2018-09-21                                       0.000000e+00                                 \n",
       "2018-09-21                                       0.000000e+00                                 \n",
       "2018-09-21                                       0.000000e+00                                 \n",
       "2018-09-21                                       0.000000e+00                                 \n",
       "2018-09-21                                       0.000000e+00                                 \n",
       "...                                                       ...                                 \n",
       "2020-12-31                                       9.217583e-18                                 \n",
       "2020-12-31                                       7.086636e-18                                 \n",
       "2020-12-31                                       4.337204e-18                                 \n",
       "2020-12-31                                       9.930791e-18                                 \n",
       "2020-12-31                                      -2.068348e-18                                 \n",
       "\n",
       "            alpha.combined-PV-equalweight-zz9999;20180101-20201231-None-Industry-holding1days  \\\n",
       "time                                                                                            \n",
       "2018-09-21                                          -0.000219                                   \n",
       "2018-09-21                                           0.000595                                   \n",
       "2018-09-21                                          -0.000261                                   \n",
       "2018-09-21                                          -0.000836                                   \n",
       "2018-09-21                                          -0.000132                                   \n",
       "...                                                       ...                                   \n",
       "2020-12-31                                           0.000657                                   \n",
       "2020-12-31                                           0.000042                                   \n",
       "2020-12-31                                          -0.000403                                   \n",
       "2020-12-31                                           0.000499                                   \n",
       "2020-12-31                                           0.000784                                   \n",
       "\n",
       "            alpha.combined-PV-irweight-zz9999;20180101-20201231-None-Industry-holding1days  \\\n",
       "time                                                                                         \n",
       "2018-09-21                                           0.000051                                \n",
       "2018-09-21                                           0.000694                                \n",
       "2018-09-21                                          -0.000187                                \n",
       "2018-09-21                                          -0.000665                                \n",
       "2018-09-21                                           0.000284                                \n",
       "...                                                       ...                                \n",
       "2020-12-31                                           0.000914                                \n",
       "2020-12-31                                           0.000002                                \n",
       "2020-12-31                                          -0.000436                                \n",
       "2020-12-31                                           0.000769                                \n",
       "2020-12-31                                           0.000857                                \n",
       "\n",
       "            alpha.combined-Mfl-equalweight-zz9999;20180101-20201231-None-Industry-holding1days  \\\n",
       "time                                                                                             \n",
       "2018-09-21                                          -0.001258                                    \n",
       "2018-09-21                                          -0.002434                                    \n",
       "2018-09-21                                          -0.000163                                    \n",
       "2018-09-21                                          -0.000326                                    \n",
       "2018-09-21                                          -0.000828                                    \n",
       "...                                                       ...                                    \n",
       "2020-12-31                                          -0.000413                                    \n",
       "2020-12-31                                          -0.000016                                    \n",
       "2020-12-31                                          -0.000031                                    \n",
       "2020-12-31                                          -0.000432                                    \n",
       "2020-12-31                                          -0.000453                                    \n",
       "\n",
       "            alpha.combined-Mfl-irweight-zz9999;20180101-20201231-None-Industry-holding1days  \n",
       "time                                                                                         \n",
       "2018-09-21                                          -0.001293                                \n",
       "2018-09-21                                          -0.002428                                \n",
       "2018-09-21                                          -0.000247                                \n",
       "2018-09-21                                          -0.000374                                \n",
       "2018-09-21                                          -0.001017                                \n",
       "...                                                       ...                                \n",
       "2020-12-31                                          -0.000595                                \n",
       "2020-12-31                                          -0.000271                                \n",
       "2020-12-31                                          -0.000354                                \n",
       "2020-12-31                                          -0.000524                                \n",
       "2020-12-31                                          -0.000101                                \n",
       "\n",
       "[1883056 rows x 13 columns]"
      ]
     },
     "execution_count": 213,
     "metadata": {},
     "output_type": "execute_result"
    }
   ],
   "source": [
    "alphas_lvl2"
   ]
  },
  {
   "cell_type": "code",
   "execution_count": 224,
   "metadata": {},
   "outputs": [],
   "source": [
    "### Equally weighted\n",
    "equalweight = {'alpha.combined-Lqd-equalweight-zz9999;20180101-20201231-None-Industry-holding1days': 1,\n",
    "               'alpha.combined-Lqd-irweight-zz9999;20180101-20201231-None-Industry-holding1days': 1,\n",
    "               'alpha.combined-Mfl-equalweight-zz9999;20180101-20201231-None-Industry-holding1days': 1,\n",
    "               'alpha.combined-Mfl-irweight-zz9999;20180101-20201231-None-Industry-holding1days': 1,\n",
    "               'alpha.combined-PV-equalweight-zz9999;20180101-20201231-None-Industry-holding1days': 1,\n",
    "               'alpha.combined-PV-irweight-zz9999;20180101-20201231-None-Industry-holding1days': 1,\n",
    "               'alpha.combined-Tec-equalweight-zz9999;20180101-20201231-None-Industry-holding1days': 1,\n",
    "               'alpha.combined-Tec-irweight-zz9999;20180101-20201231-None-Industry-holding1days': 1,\n",
    "               'alpha.combined-Vol-equalweight-zz9999;20180101-20201231-None-Industry-holding1days': 1,\n",
    "               'alpha.combined-Vol-irweight-zz9999;20180101-20201231-None-Industry-holding1days': 1}"
   ]
  },
  {
   "cell_type": "code",
   "execution_count": 225,
   "metadata": {},
   "outputs": [],
   "source": [
    "### IR weighted\n",
    "irweights = {'alpha.combined-Lqd-equalweight-zz9999;20180101-20201231-None-Industry-holding1days': 7.040704,\n",
    "               'alpha.combined-Lqd-irweight-zz9999;20180101-20201231-None-Industry-holding1days': 7.122243,\n",
    "               'alpha.combined-Mfl-equalweight-zz9999;20180101-20201231-None-Industry-holding1days': 5.456058,\n",
    "               'alpha.combined-Mfl-irweight-zz9999;20180101-20201231-None-Industry-holding1days': 5.769453,\n",
    "               'alpha.combined-PV-equalweight-zz9999;20180101-20201231-None-Industry-holding1days': 10.655995,\n",
    "               'alpha.combined-PV-irweight-zz9999;20180101-20201231-None-Industry-holding1days': 9.719494,\n",
    "               'alpha.combined-Tec-equalweight-zz9999;20180101-20201231-None-Industry-holding1days': 5.453688,\n",
    "               'alpha.combined-Tec-irweight-zz9999;20180101-20201231-None-Industry-holding1days': 5.425224,\n",
    "               'alpha.combined-Vol-equalweight-zz9999;20180101-20201231-None-Industry-holding1days': 4.707861,\n",
    "               'alpha.combined-Vol-irweight-zz9999;20180101-20201231-None-Industry-holding1days': 4.848018}"
   ]
  },
  {
   "cell_type": "code",
   "execution_count": 226,
   "metadata": {},
   "outputs": [
    {
     "name": "stderr",
     "output_type": "stream",
     "text": [
      "2023-06-22 01:00:22,204:DEBUG:__main__:Start writing to files for alpha combined-lvl2-equalweight-zz9999...\n",
      "2023-06-22 01:00:22,204:DEBUG:__main__:Start writing to files for alpha combined-lvl2-equalweight-zz9999...\n",
      "2023-06-22 01:00:46,240:DEBUG:__main__:Writing to files...Done!\n",
      "2023-06-22 01:00:46,240:DEBUG:__main__:Writing to files...Done!\n"
     ]
    }
   ],
   "source": [
    "combine_alphas(alphas_lvl2, 'lvl2', 'equalweight', equalweight)"
   ]
  },
  {
   "cell_type": "code",
   "execution_count": 227,
   "metadata": {},
   "outputs": [
    {
     "name": "stderr",
     "output_type": "stream",
     "text": [
      "2023-06-22 01:00:51,593:DEBUG:__main__:Start writing to files for alpha combined-lvl2-irweight-zz9999...\n",
      "2023-06-22 01:00:51,593:DEBUG:__main__:Start writing to files for alpha combined-lvl2-irweight-zz9999...\n",
      "2023-06-22 01:01:15,195:DEBUG:__main__:Writing to files...Done!\n",
      "2023-06-22 01:01:15,195:DEBUG:__main__:Writing to files...Done!\n"
     ]
    }
   ],
   "source": [
    "combine_alphas(alphas_lvl2, 'lvl2', 'irweight', irweights)"
   ]
  },
  {
   "cell_type": "code",
   "execution_count": null,
   "metadata": {},
   "outputs": [],
   "source": []
  },
  {
   "cell_type": "code",
   "execution_count": 228,
   "metadata": {},
   "outputs": [],
   "source": [
    "plot_combined('lvl2', 'equalweight')"
   ]
  },
  {
   "cell_type": "code",
   "execution_count": 229,
   "metadata": {},
   "outputs": [],
   "source": [
    "plot_combined('lvl2', 'irweight')"
   ]
  },
  {
   "cell_type": "code",
   "execution_count": null,
   "metadata": {},
   "outputs": [],
   "source": []
  }
 ],
 "metadata": {
  "kernelspec": {
   "display_name": ".venv",
   "language": "python",
   "name": "python3"
  },
  "language_info": {
   "codemirror_mode": {
    "name": "ipython",
    "version": 3
   },
   "file_extension": ".py",
   "mimetype": "text/x-python",
   "name": "python",
   "nbconvert_exporter": "python",
   "pygments_lexer": "ipython3",
   "version": "3.10.11"
  },
  "orig_nbformat": 4
 },
 "nbformat": 4,
 "nbformat_minor": 2
}
